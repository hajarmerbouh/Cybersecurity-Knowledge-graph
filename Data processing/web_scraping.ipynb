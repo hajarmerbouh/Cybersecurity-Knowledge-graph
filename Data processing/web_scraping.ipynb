{
  "nbformat": 4,
  "nbformat_minor": 0,
  "metadata": {
    "colab": {
      "name": "web scraping.ipynb",
      "provenance": [],
      "collapsed_sections": []
    },
    "kernelspec": {
      "name": "python3",
      "display_name": "Python 3"
    },
    "language_info": {
      "name": "python"
    },
    "accelerator": "GPU"
  },
  "cells": [
    {
      "cell_type": "code",
      "source": [
        "from google.colab import  drive\n",
        "drive.mount('/drive')"
      ],
      "metadata": {
        "colab": {
          "base_uri": "https://localhost:8080/"
        },
        "id": "Th1dtj3u-9uR",
        "outputId": "90de24ec-b59b-485d-cefe-a36bf79aa73a"
      },
      "execution_count": null,
      "outputs": [
        {
          "output_type": "stream",
          "name": "stdout",
          "text": [
            "Mounted at /drive\n"
          ]
        }
      ]
    },
    {
      "cell_type": "markdown",
      "source": [
        "# Extraction of needed datasets "
      ],
      "metadata": {
        "id": "XTgN78e3DBMv"
      }
    },
    {
      "cell_type": "markdown",
      "source": [
        "**Le but de la création de ce notebook est d'enrichir le graphe de connaissance par l'extraction des informations que je juge être un plus ceci permettra de caractériser mon projet par rapport au reste des travaux déjà existantes dans le cadre de Cybersecurity Knowledge Graphs** 🍀"
      ],
      "metadata": {
        "id": "6Wr5LwYa_TwH"
      }
    },
    {
      "cell_type": "markdown",
      "source": [
        "Les informations que je compte ajouter sont : **APT Group**, **Techniques** utilisés par les attaquants, **tactics**, **Mitigations** pour contrer l'attaque . Tout type de malware appartient à un groupe apt spécifique et à partir de ce groupe on pourra avoir un ensemble d'informations sur les méthodes offensives du pirate informatique et les méthodes défensives pour le contrer. Malheureusement, cette information n'existe pas dans les rapports annotés (apt malwares notes) qui construit mon corpus :( . Pour cette raison, j'ai décidé d'opter pour une technique qui permettra d'attribuer à chaque malware le groupe APT auquel il appartient. "
      ],
      "metadata": {
        "id": "5YAtJz2hA6cm"
      }
    },
    {
      "cell_type": "code",
      "source": [
        "import requests\n",
        "from lxml import etree\n",
        "import time\n",
        "import csv"
      ],
      "metadata": {
        "id": "qdNhtsw4Bsuw"
      },
      "execution_count": null,
      "outputs": []
    },
    {
      "cell_type": "code",
      "source": [
        "Tactics_info_list = []\n",
        "\n",
        "Techniques_info_list = []\n",
        "Techniques_url = []\n",
        "\n",
        "Mitigations_info_list = []\n",
        "Mitigations_info_list_temp = []\n",
        "Mitigations_url = []\n",
        "\n",
        "Groups_info_list = []\n",
        "Groups_info_list_temp = []\n",
        "Groups_url = []"
      ],
      "metadata": {
        "id": "UtVneuB3OKId"
      },
      "execution_count": null,
      "outputs": []
    },
    {
      "cell_type": "code",
      "source": [
        "def get_tactics_info(url):\n",
        "   \n",
        "    html = requests.get(url)\n",
        "    selector = etree.HTML(html.text)\n",
        "   \n",
        "    Tactics_ID = selector.xpath('//div[@class=\"card-body\"]/div[1]/text()')\n",
        "    Tactics_Created = selector.xpath('//div[@class=\"card-body\"]/div[2]/text()')\n",
        "    Tactics_LM = selector.xpath('//div[@class=\"card-body\"]/div[3]/text()')\n",
        "    Tactics_Name = selector.xpath('//div[@class=\"container-fluid\"]/h1/text()')\n",
        "    Tactics_Intros = selector.xpath('//div[@class=\"container-fluid\"]/div[1]/div[1]/div[1]/p/text()')\n",
        "    info_list = [Tactics_Name[0].strip(), Tactics_Intros[0], Tactics_ID[0].strip(), Tactics_Created[0], Tactics_LM[0]]\n",
        "    Tactics_info_list.append(info_list)\n",
        "\n",
        "  \n",
        "    Techniques_url_infos = selector.xpath('//table[@class=\"table-techniques\"]/tbody')\n",
        "    for info in Techniques_url_infos:\n",
        "        Techniques_ID = info.xpath('tr[@class=\"technique\"]/td[1]/a/text()')\n",
        "        for ID in Techniques_ID:\n",
        "            Techniques_url.append('https://attack.mitre.org/techniques/{}/'.format(str(ID.strip())))"
      ],
      "metadata": {
        "id": "giuUovZROQbM"
      },
      "execution_count": null,
      "outputs": []
    },
    {
      "cell_type": "code",
      "source": [
        "def get_techniques_info(url):\n",
        "    headers = {\n",
        "        'User-Agent': 'user-agent: Mozilla/5.0 (Windows NT 10.0; WOW64) AppleWebKit/537.36 (KHTML, like Gecko) Chrome/78.0.3904.108 Safari/537.36'}\n",
        "    html = requests.get(url, headers=headers)\n",
        "    selector = etree.HTML(html.text)\n",
        "  \n",
        "    Techniques_Name = selector.xpath('//div[@class=\"container-fluid\"]/h1/text()')\n",
        "    Techniques_ID = selector.xpath('//div[@class=\"card-body\"]/div/div/span[contains(text(),\"ID\")]/../text()')\n",
        "    Techniques_Platforms = selector.xpath('//div[@class=\"card-body\"]/div/div/span[contains(text(),\"Platforms\")]/../text()')\n",
        "    Techniques_Tactic = selector.xpath('//div[@class=\"card-body\"]/div/div/span[contains(text(),\"Tactic\")]/../text()')\n",
        "\n",
        "\n",
        "    Techniques_Sub_tec = selector.xpath(\n",
        "        '//div[@class=\"card-body\"]/div/div/span[contains(text(),\"Sub-techniques\")]/../text()')\n",
        "    if Techniques_Sub_tec[0].strip() != 'No sub-techniques':\n",
        "        Techniques_Sub_tec = selector.xpath(\n",
        "            '//div[@class=\"card-body\"]/div/span[contains(text(),\"Sub-techniques\")]/../a/text()')\n",
        "        Techniques_Sub_tec = str(len(Techniques_Sub_tec)) + ' sub-techniques'\n",
        "    else:\n",
        "        Techniques_Sub_tec = Techniques_Sub_tec[0].strip()\n",
        "    Techniques_PR = selector.xpath(\n",
        "        '//div[@class=\"card-body\"]/div/span[contains(text(),\"Permissions Required\")]/../text()')\n",
        "    if Techniques_PR != []:\n",
        "        Techniques_PR = Techniques_PR[0].strip()\n",
        "    Techniques_DS = selector.xpath('//div[@class=\"card-body\"]/div/span[contains(text(),\"Data Sources\")]/../text()')\n",
        "    if Techniques_DS != []:\n",
        "        Techniques_DS = Techniques_DS[0].strip()\n",
        "\n",
        "    info_list = [Techniques_Name[0].strip(), Techniques_ID[0].strip(), Techniques_Sub_tec,\n",
        "                 Techniques_Tactic[0].replace('\\n', '').replace(' ', ''), Techniques_Platforms[0],\n",
        "                 Techniques_DS, Techniques_PR]\n",
        "    Techniques_info_list.append(info_list)"
      ],
      "metadata": {
        "id": "K0rzdMtWOa8s"
      },
      "execution_count": null,
      "outputs": []
    },
    {
      "cell_type": "code",
      "source": [
        "def get_mitigations_url():\n",
        "    headers = {\n",
        "        'User-Agent': 'user-agent: Mozilla/5.0 (Windows NT 10.0; WOW64) AppleWebKit/537.36 (KHTML, like Gecko) Chrome/78.0.3904.108 Safari/537.36'}\n",
        "    html = requests.get('https://attack.mitre.org/mitigations/enterprise/', headers=headers)\n",
        "    selector = etree.HTML(html.text)\n",
        " \n",
        "    Mitigation_ID = selector.xpath('//div[@class=\"overflow-x-auto\"]/table/tbody/tr/td[1]/a/text()')\n",
        "    Mitigation_Name = selector.xpath('//div[@class=\"overflow-x-auto\"]/table/tbody/tr/td[2]/a/text()')\n",
        "    Mitigation_Des = selector.xpath('//div[@class=\"overflow-x-auto\"]/table/tbody/tr/td[3]/text()')\n",
        "    for i in range(0, len(Mitigation_Des)):\n",
        "        Mitigations_url.append('https://attack.mitre.org/mitigations/{}/'.format(str(Mitigation_ID[i].strip())))\n",
        "        info_list = [Mitigation_Name[i], Mitigation_ID[i], Mitigation_Des[i].strip()]\n",
        "        Mitigations_info_list.append(info_list)\n"
      ],
      "metadata": {
        "id": "eYXDE-ETOf4a"
      },
      "execution_count": null,
      "outputs": []
    },
    {
      "cell_type": "code",
      "source": [
        "def get_mitigations_info(url):\n",
        "    headers = {\n",
        "        'User-Agent': 'user-agent: Mozilla/5.0 (Windows NT 10.0; WOW64) AppleWebKit/537.36 (KHTML, like Gecko) Chrome/78.0.3904.108 Safari/537.36'}\n",
        "    html = requests.get(url, headers=headers)\n",
        "    selector = etree.HTML(html.text)\n",
        " \n",
        "    Tec_Addressed_by_Mitigation = selector.xpath(\n",
        "        '//div[@class=\"container-fluid\"]/table/tbody/tr[@class=\"technique\"]/td[3]/a/text()')\n",
        "    Mitigations_info_list_temp.append(Tec_Addressed_by_Mitigation)\n"
      ],
      "metadata": {
        "id": "AffKQ_rtOmVp"
      },
      "execution_count": null,
      "outputs": []
    },
    {
      "cell_type": "code",
      "source": [
        "def get_groups_url():\n",
        "    headers = {\n",
        "        'User-Agent': 'user-agent: Mozilla/5.0 (Windows NT 10.0; WOW64) AppleWebKit/537.36 (KHTML, like Gecko) Chrome/78.0.3904.108 Safari/537.36'}\n",
        "    html = requests.get('https://attack.mitre.org/groups/', headers=headers)\n",
        "    selector = etree.HTML(html.text)\n",
        "   \n",
        "    Associated_Groups = selector.xpath('//table[@class=\"table table-bordered table-alternate mt-2\"]/tbody/tr/td[1]/text()')\n",
        "    for group in Associated_Groups:\n",
        "        Groups_info_list_temp.append(group.strip())\n",
        "    Group_ID = selector.xpath('//table[@class=\"table table-bordered table-alternate mt-2\"]/tbody/tr/td[2]/a/@href')\n",
        "    for ID in Group_ID:\n",
        "        Groups_url.append('https://attack.mitre.org{}/'.format(str(ID)))"
      ],
      "metadata": {
        "id": "10Bs8W1tOqab"
      },
      "execution_count": null,
      "outputs": []
    },
    {
      "cell_type": "code",
      "source": [
        "def get_groups_info(url):\n",
        "    headers = {\n",
        "        'User-Agent': 'user-agent: Mozilla/5.0 (Windows NT 10.0; WOW64) AppleWebKit/537.36 (KHTML, like Gecko) Chrome/78.0.3904.108 Safari/537.36'}\n",
        "    html = requests.get(url, headers=headers)\n",
        "    selector = etree.HTML(html.text)\n",
        " \n",
        "    Tecs_Used_by_Group = selector.xpath(\n",
        "        '//table[@class=\"table techniques-used table-bordered mt-2\"]/tbody/tr/td[2]/a/text()')\n",
        "    Group_Name =selector.xpath('//div[@class=\"container-fluid\"]/h1/text()')\n",
        "    Group_ID =selector.xpath('//div[@class=\"card-body\"]/div[1]/text()')\n",
        "    info_list = [Group_Name[0].strip(), Group_ID[0].replace(':', '').replace(' ', ''), Tecs_Used_by_Group]\n",
        "    Groups_info_list.append(info_list)"
      ],
      "metadata": {
        "id": "JmB8ka4GOvhD"
      },
      "execution_count": null,
      "outputs": []
    },
    {
      "cell_type": "code",
      "source": [
        "def get_urls1():\n",
        "    urls = ['https://attack.mitre.org/tactics/TA000{}/'.format(str(i)) for i in range(1, 10)]\n",
        "    urls.extend(['https://attack.mitre.org/tactics/TA0010/', 'https://attack.mitre.org/tactics/TA0011/',\n",
        "                 'https://attack.mitre.org/tactics/TA0040/'])\n",
        "    for url in urls:\n",
        "        get_tactics_info(url)\n",
        "        time.sleep(0.05)"
      ],
      "metadata": {
        "id": "P04J3wajOxcf"
      },
      "execution_count": null,
      "outputs": []
    },
    {
      "cell_type": "code",
      "source": [
        "def get_urls2():\n",
        "    for url in Techniques_url:\n",
        "        get_techniques_info(url)\n",
        "        time.sleep(0.05)"
      ],
      "metadata": {
        "id": "XciIJe-sO0az"
      },
      "execution_count": null,
      "outputs": []
    },
    {
      "cell_type": "code",
      "source": [
        "def get_urls3():\n",
        "    get_mitigations_url()\n",
        "    for url in Mitigations_url:\n",
        "        get_mitigations_info(url)\n",
        "        time.sleep(0.05)\n",
        "\n",
        "    for i in range(0, len(Mitigations_info_list_temp)):\n",
        "        Mitigations_info_list[i].append(Mitigations_info_list_temp[i])"
      ],
      "metadata": {
        "id": "5XZRMLBGQgSJ"
      },
      "execution_count": null,
      "outputs": []
    },
    {
      "cell_type": "code",
      "source": [
        "def get_urls4():\n",
        "    get_groups_url()\n",
        "    for url in Groups_url:\n",
        "        get_groups_info(url)\n",
        "        time.sleep(0.05)\n",
        "\n",
        "    for i in range(0, len(Groups_info_list)):\n",
        "        Groups_info_list[i].append(Groups_info_list_temp[i])"
      ],
      "metadata": {
        "id": "qLr3Yp5jQo1k"
      },
      "execution_count": null,
      "outputs": []
    },
    {
      "cell_type": "code",
      "source": [
        "len(Groups_info_list_temp)"
      ],
      "metadata": {
        "colab": {
          "base_uri": "https://localhost:8080/"
        },
        "id": "bcEknLync47-",
        "outputId": "44da9715-7d0a-4ae8-c30b-3abd20f6e7fc"
      },
      "execution_count": null,
      "outputs": [
        {
          "output_type": "execute_result",
          "data": {
            "text/plain": [
              "266"
            ]
          },
          "metadata": {},
          "execution_count": 49
        }
      ]
    },
    {
      "cell_type": "code",
      "source": [
        "len(Groups_info_list)"
      ],
      "metadata": {
        "colab": {
          "base_uri": "https://localhost:8080/"
        },
        "id": "WtXu5pgRc-sW",
        "outputId": "f467cf54-ae40-457d-d75c-da82d11e2e0d"
      },
      "execution_count": null,
      "outputs": [
        {
          "output_type": "execute_result",
          "data": {
            "text/plain": [
              "133"
            ]
          },
          "metadata": {},
          "execution_count": 50
        }
      ]
    },
    {
      "cell_type": "code",
      "source": [
        "get_urls1()\n",
        "get_urls2()\n",
        "get_urls3()\n",
        "get_urls4()\n",
        "    "
      ],
      "metadata": {
        "id": "P1G6HgFPQqtu"
      },
      "execution_count": null,
      "outputs": []
    },
    {
      "cell_type": "markdown",
      "source": [
        "**Datasets headers**"
      ],
      "metadata": {
        "id": "tBzdfpqBRJoR"
      }
    },
    {
      "cell_type": "code",
      "source": [
        "header1 = ['Name', 'Intro', 'ID', 'Created', 'Last_Modified']\n",
        "header2 = ['Name', 'ID', 'Sub-Tec', 'Tactic', 'Platforms', 'Data Sources', 'Permissions Required']\n",
        "header3 = ['Name', 'ID', 'Description', 'Tecs Addressed by Mitigation']\n",
        "header4 = ['Name', 'ID', 'Tecs Used by Group', 'Associated Groups']"
      ],
      "metadata": {
        "id": "sBTLneRsRBz4"
      },
      "execution_count": null,
      "outputs": []
    },
    {
      "cell_type": "markdown",
      "source": [
        "**Create csv files**"
      ],
      "metadata": {
        "id": "EvydSAjyRdXR"
      }
    },
    {
      "cell_type": "code",
      "source": [
        "csvfile1 = open('ATT&CK MATRICES Tac.csv', 'w', errors='ignore', newline='')\n",
        "csvfile2 = open('ATT&CK MATRICES Tec.csv', 'w', errors='ignore', newline='')\n",
        "csvfile3 = open('ATT&CK MATRICES Miti.csv', 'w', errors='ignore', newline='')\n",
        "csvfile4 = open('ATT&CK MATRICES Group.csv', 'w', errors='ignore', newline='')"
      ],
      "metadata": {
        "id": "PvVGUxghRSvz"
      },
      "execution_count": null,
      "outputs": []
    },
    {
      "cell_type": "markdown",
      "source": [
        "**Filling csv files with extracted data**"
      ],
      "metadata": {
        "id": "8IjJIN-uRjeC"
      }
    },
    {
      "cell_type": "code",
      "source": [
        "sheet1 = csv.writer(csvfile1)\n",
        "sheet2 = csv.writer(csvfile2)\n",
        "sheet3 = csv.writer(csvfile3)\n",
        "sheet4 = csv.writer(csvfile4)\n",
        "\n",
        "sheet1.writerow(header1)\n",
        "sheet2.writerow(header2)\n",
        "sheet3.writerow(header3)\n",
        "sheet4.writerow(header4)\n",
        "  \n",
        "for list1 in Tactics_info_list:\n",
        "    sheet1.writerow(list1)\n",
        "for list2 in Techniques_info_list:\n",
        "    sheet2.writerow(list2)\n",
        "for list3 in Mitigations_info_list:\n",
        "    sheet3.writerow(list3)\n",
        "for list4 in Groups_info_list:\n",
        "    sheet4.writerow(list4)"
      ],
      "metadata": {
        "id": "pMc3ySPVRjzr"
      },
      "execution_count": null,
      "outputs": []
    },
    {
      "cell_type": "code",
      "source": [
        "csvfile1.close()\n",
        "csvfile2.close()\n",
        "csvfile3.close()\n",
        "csvfile4.close()"
      ],
      "metadata": {
        "id": "8LTTFTbySIvR"
      },
      "execution_count": null,
      "outputs": []
    },
    {
      "cell_type": "code",
      "source": [
        ""
      ],
      "metadata": {
        "id": "7p-l1SH7sOlJ"
      },
      "execution_count": null,
      "outputs": []
    }
  ]
}