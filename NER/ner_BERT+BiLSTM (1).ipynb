{
  "nbformat": 4,
  "nbformat_minor": 0,
  "metadata": {
    "kernelspec": {
      "language": "python",
      "display_name": "Python 3",
      "name": "python3"
    },
    "language_info": {
      "name": "python",
      "version": "3.7.6",
      "mimetype": "text/x-python",
      "codemirror_mode": {
        "name": "ipython",
        "version": 3
      },
      "pygments_lexer": "ipython3",
      "nbconvert_exporter": "python",
      "file_extension": ".py"
    },
    "colab": {
      "name": "ner_BERT+BiLSTM.ipynb",
      "provenance": [],
      "collapsed_sections": [],
      "machine_shape": "hm",
      "background_execution": "on"
    },
    "accelerator": "GPU",
    "widgets": {
      "application/vnd.jupyter.widget-state+json": {
        "bb655d7f215b463ba24175428e40fb0b": {
          "model_module": "@jupyter-widgets/controls",
          "model_name": "HBoxModel",
          "model_module_version": "1.5.0",
          "state": {
            "_dom_classes": [],
            "_model_module": "@jupyter-widgets/controls",
            "_model_module_version": "1.5.0",
            "_model_name": "HBoxModel",
            "_view_count": null,
            "_view_module": "@jupyter-widgets/controls",
            "_view_module_version": "1.5.0",
            "_view_name": "HBoxView",
            "box_style": "",
            "children": [
              "IPY_MODEL_d7db6dd9743d4fb792abdb6b052d0511",
              "IPY_MODEL_f56d81a342604b3cad18fab018bd0884",
              "IPY_MODEL_b6329526120a49c79d7dc2050cca4234"
            ],
            "layout": "IPY_MODEL_09bb066b38bd42e7931ab1c5aa2fa56b"
          }
        },
        "d7db6dd9743d4fb792abdb6b052d0511": {
          "model_module": "@jupyter-widgets/controls",
          "model_name": "HTMLModel",
          "model_module_version": "1.5.0",
          "state": {
            "_dom_classes": [],
            "_model_module": "@jupyter-widgets/controls",
            "_model_module_version": "1.5.0",
            "_model_name": "HTMLModel",
            "_view_count": null,
            "_view_module": "@jupyter-widgets/controls",
            "_view_module_version": "1.5.0",
            "_view_name": "HTMLView",
            "description": "",
            "description_tooltip": null,
            "layout": "IPY_MODEL_ad7cdc52ef6a4564a02b100e1a79f0cc",
            "placeholder": "​",
            "style": "IPY_MODEL_4873f2bef638484cb6fb10256980033a",
            "value": "Downloading: 100%"
          }
        },
        "f56d81a342604b3cad18fab018bd0884": {
          "model_module": "@jupyter-widgets/controls",
          "model_name": "FloatProgressModel",
          "model_module_version": "1.5.0",
          "state": {
            "_dom_classes": [],
            "_model_module": "@jupyter-widgets/controls",
            "_model_module_version": "1.5.0",
            "_model_name": "FloatProgressModel",
            "_view_count": null,
            "_view_module": "@jupyter-widgets/controls",
            "_view_module_version": "1.5.0",
            "_view_name": "ProgressView",
            "bar_style": "success",
            "description": "",
            "description_tooltip": null,
            "layout": "IPY_MODEL_ab1e2866b3d24cf9815cf272e8b2f7f5",
            "max": 231508,
            "min": 0,
            "orientation": "horizontal",
            "style": "IPY_MODEL_c66c1a4053e0478a8bb424637f26991b",
            "value": 231508
          }
        },
        "b6329526120a49c79d7dc2050cca4234": {
          "model_module": "@jupyter-widgets/controls",
          "model_name": "HTMLModel",
          "model_module_version": "1.5.0",
          "state": {
            "_dom_classes": [],
            "_model_module": "@jupyter-widgets/controls",
            "_model_module_version": "1.5.0",
            "_model_name": "HTMLModel",
            "_view_count": null,
            "_view_module": "@jupyter-widgets/controls",
            "_view_module_version": "1.5.0",
            "_view_name": "HTMLView",
            "description": "",
            "description_tooltip": null,
            "layout": "IPY_MODEL_b38b2f27dad84c6399a7bf5c4300089d",
            "placeholder": "​",
            "style": "IPY_MODEL_992acec76be44eb6ba39b92026215c93",
            "value": " 226k/226k [00:00&lt;00:00, 936kB/s]"
          }
        },
        "09bb066b38bd42e7931ab1c5aa2fa56b": {
          "model_module": "@jupyter-widgets/base",
          "model_name": "LayoutModel",
          "model_module_version": "1.2.0",
          "state": {
            "_model_module": "@jupyter-widgets/base",
            "_model_module_version": "1.2.0",
            "_model_name": "LayoutModel",
            "_view_count": null,
            "_view_module": "@jupyter-widgets/base",
            "_view_module_version": "1.2.0",
            "_view_name": "LayoutView",
            "align_content": null,
            "align_items": null,
            "align_self": null,
            "border": null,
            "bottom": null,
            "display": null,
            "flex": null,
            "flex_flow": null,
            "grid_area": null,
            "grid_auto_columns": null,
            "grid_auto_flow": null,
            "grid_auto_rows": null,
            "grid_column": null,
            "grid_gap": null,
            "grid_row": null,
            "grid_template_areas": null,
            "grid_template_columns": null,
            "grid_template_rows": null,
            "height": null,
            "justify_content": null,
            "justify_items": null,
            "left": null,
            "margin": null,
            "max_height": null,
            "max_width": null,
            "min_height": null,
            "min_width": null,
            "object_fit": null,
            "object_position": null,
            "order": null,
            "overflow": null,
            "overflow_x": null,
            "overflow_y": null,
            "padding": null,
            "right": null,
            "top": null,
            "visibility": null,
            "width": null
          }
        },
        "ad7cdc52ef6a4564a02b100e1a79f0cc": {
          "model_module": "@jupyter-widgets/base",
          "model_name": "LayoutModel",
          "model_module_version": "1.2.0",
          "state": {
            "_model_module": "@jupyter-widgets/base",
            "_model_module_version": "1.2.0",
            "_model_name": "LayoutModel",
            "_view_count": null,
            "_view_module": "@jupyter-widgets/base",
            "_view_module_version": "1.2.0",
            "_view_name": "LayoutView",
            "align_content": null,
            "align_items": null,
            "align_self": null,
            "border": null,
            "bottom": null,
            "display": null,
            "flex": null,
            "flex_flow": null,
            "grid_area": null,
            "grid_auto_columns": null,
            "grid_auto_flow": null,
            "grid_auto_rows": null,
            "grid_column": null,
            "grid_gap": null,
            "grid_row": null,
            "grid_template_areas": null,
            "grid_template_columns": null,
            "grid_template_rows": null,
            "height": null,
            "justify_content": null,
            "justify_items": null,
            "left": null,
            "margin": null,
            "max_height": null,
            "max_width": null,
            "min_height": null,
            "min_width": null,
            "object_fit": null,
            "object_position": null,
            "order": null,
            "overflow": null,
            "overflow_x": null,
            "overflow_y": null,
            "padding": null,
            "right": null,
            "top": null,
            "visibility": null,
            "width": null
          }
        },
        "4873f2bef638484cb6fb10256980033a": {
          "model_module": "@jupyter-widgets/controls",
          "model_name": "DescriptionStyleModel",
          "model_module_version": "1.5.0",
          "state": {
            "_model_module": "@jupyter-widgets/controls",
            "_model_module_version": "1.5.0",
            "_model_name": "DescriptionStyleModel",
            "_view_count": null,
            "_view_module": "@jupyter-widgets/base",
            "_view_module_version": "1.2.0",
            "_view_name": "StyleView",
            "description_width": ""
          }
        },
        "ab1e2866b3d24cf9815cf272e8b2f7f5": {
          "model_module": "@jupyter-widgets/base",
          "model_name": "LayoutModel",
          "model_module_version": "1.2.0",
          "state": {
            "_model_module": "@jupyter-widgets/base",
            "_model_module_version": "1.2.0",
            "_model_name": "LayoutModel",
            "_view_count": null,
            "_view_module": "@jupyter-widgets/base",
            "_view_module_version": "1.2.0",
            "_view_name": "LayoutView",
            "align_content": null,
            "align_items": null,
            "align_self": null,
            "border": null,
            "bottom": null,
            "display": null,
            "flex": null,
            "flex_flow": null,
            "grid_area": null,
            "grid_auto_columns": null,
            "grid_auto_flow": null,
            "grid_auto_rows": null,
            "grid_column": null,
            "grid_gap": null,
            "grid_row": null,
            "grid_template_areas": null,
            "grid_template_columns": null,
            "grid_template_rows": null,
            "height": null,
            "justify_content": null,
            "justify_items": null,
            "left": null,
            "margin": null,
            "max_height": null,
            "max_width": null,
            "min_height": null,
            "min_width": null,
            "object_fit": null,
            "object_position": null,
            "order": null,
            "overflow": null,
            "overflow_x": null,
            "overflow_y": null,
            "padding": null,
            "right": null,
            "top": null,
            "visibility": null,
            "width": null
          }
        },
        "c66c1a4053e0478a8bb424637f26991b": {
          "model_module": "@jupyter-widgets/controls",
          "model_name": "ProgressStyleModel",
          "model_module_version": "1.5.0",
          "state": {
            "_model_module": "@jupyter-widgets/controls",
            "_model_module_version": "1.5.0",
            "_model_name": "ProgressStyleModel",
            "_view_count": null,
            "_view_module": "@jupyter-widgets/base",
            "_view_module_version": "1.2.0",
            "_view_name": "StyleView",
            "bar_color": null,
            "description_width": ""
          }
        },
        "b38b2f27dad84c6399a7bf5c4300089d": {
          "model_module": "@jupyter-widgets/base",
          "model_name": "LayoutModel",
          "model_module_version": "1.2.0",
          "state": {
            "_model_module": "@jupyter-widgets/base",
            "_model_module_version": "1.2.0",
            "_model_name": "LayoutModel",
            "_view_count": null,
            "_view_module": "@jupyter-widgets/base",
            "_view_module_version": "1.2.0",
            "_view_name": "LayoutView",
            "align_content": null,
            "align_items": null,
            "align_self": null,
            "border": null,
            "bottom": null,
            "display": null,
            "flex": null,
            "flex_flow": null,
            "grid_area": null,
            "grid_auto_columns": null,
            "grid_auto_flow": null,
            "grid_auto_rows": null,
            "grid_column": null,
            "grid_gap": null,
            "grid_row": null,
            "grid_template_areas": null,
            "grid_template_columns": null,
            "grid_template_rows": null,
            "height": null,
            "justify_content": null,
            "justify_items": null,
            "left": null,
            "margin": null,
            "max_height": null,
            "max_width": null,
            "min_height": null,
            "min_width": null,
            "object_fit": null,
            "object_position": null,
            "order": null,
            "overflow": null,
            "overflow_x": null,
            "overflow_y": null,
            "padding": null,
            "right": null,
            "top": null,
            "visibility": null,
            "width": null
          }
        },
        "992acec76be44eb6ba39b92026215c93": {
          "model_module": "@jupyter-widgets/controls",
          "model_name": "DescriptionStyleModel",
          "model_module_version": "1.5.0",
          "state": {
            "_model_module": "@jupyter-widgets/controls",
            "_model_module_version": "1.5.0",
            "_model_name": "DescriptionStyleModel",
            "_view_count": null,
            "_view_module": "@jupyter-widgets/base",
            "_view_module_version": "1.2.0",
            "_view_name": "StyleView",
            "description_width": ""
          }
        },
        "2219d3d2156f466fa0f0302429c1daa0": {
          "model_module": "@jupyter-widgets/controls",
          "model_name": "HBoxModel",
          "model_module_version": "1.5.0",
          "state": {
            "_dom_classes": [],
            "_model_module": "@jupyter-widgets/controls",
            "_model_module_version": "1.5.0",
            "_model_name": "HBoxModel",
            "_view_count": null,
            "_view_module": "@jupyter-widgets/controls",
            "_view_module_version": "1.5.0",
            "_view_name": "HBoxView",
            "box_style": "",
            "children": [
              "IPY_MODEL_4aa5957071434a1c97a0e68fec2e6586",
              "IPY_MODEL_8c1e0de93a9f4ceba13f98c5d186c3d5",
              "IPY_MODEL_d08d6af8861c4abd81fbda987411c68d"
            ],
            "layout": "IPY_MODEL_a88d1b3c02ad40059a9367ff7e488ceb"
          }
        },
        "4aa5957071434a1c97a0e68fec2e6586": {
          "model_module": "@jupyter-widgets/controls",
          "model_name": "HTMLModel",
          "model_module_version": "1.5.0",
          "state": {
            "_dom_classes": [],
            "_model_module": "@jupyter-widgets/controls",
            "_model_module_version": "1.5.0",
            "_model_name": "HTMLModel",
            "_view_count": null,
            "_view_module": "@jupyter-widgets/controls",
            "_view_module_version": "1.5.0",
            "_view_name": "HTMLView",
            "description": "",
            "description_tooltip": null,
            "layout": "IPY_MODEL_7e64b71959f74dc8a8c7a9de49f0c379",
            "placeholder": "​",
            "style": "IPY_MODEL_c56350c3663f462c8964c5c43f07fd26",
            "value": "Downloading: 100%"
          }
        },
        "8c1e0de93a9f4ceba13f98c5d186c3d5": {
          "model_module": "@jupyter-widgets/controls",
          "model_name": "FloatProgressModel",
          "model_module_version": "1.5.0",
          "state": {
            "_dom_classes": [],
            "_model_module": "@jupyter-widgets/controls",
            "_model_module_version": "1.5.0",
            "_model_name": "FloatProgressModel",
            "_view_count": null,
            "_view_module": "@jupyter-widgets/controls",
            "_view_module_version": "1.5.0",
            "_view_name": "ProgressView",
            "bar_style": "success",
            "description": "",
            "description_tooltip": null,
            "layout": "IPY_MODEL_b66fce2732564691a2ee0a1fd202ae98",
            "max": 28,
            "min": 0,
            "orientation": "horizontal",
            "style": "IPY_MODEL_c4d6467280b8425990ee8a9138940ede",
            "value": 28
          }
        },
        "d08d6af8861c4abd81fbda987411c68d": {
          "model_module": "@jupyter-widgets/controls",
          "model_name": "HTMLModel",
          "model_module_version": "1.5.0",
          "state": {
            "_dom_classes": [],
            "_model_module": "@jupyter-widgets/controls",
            "_model_module_version": "1.5.0",
            "_model_name": "HTMLModel",
            "_view_count": null,
            "_view_module": "@jupyter-widgets/controls",
            "_view_module_version": "1.5.0",
            "_view_name": "HTMLView",
            "description": "",
            "description_tooltip": null,
            "layout": "IPY_MODEL_dc25562c62844a95a2203aceca6cc6aa",
            "placeholder": "​",
            "style": "IPY_MODEL_05fd7dc69ce24fb78a5f4c70c9fe04f1",
            "value": " 28.0/28.0 [00:00&lt;00:00, 887B/s]"
          }
        },
        "a88d1b3c02ad40059a9367ff7e488ceb": {
          "model_module": "@jupyter-widgets/base",
          "model_name": "LayoutModel",
          "model_module_version": "1.2.0",
          "state": {
            "_model_module": "@jupyter-widgets/base",
            "_model_module_version": "1.2.0",
            "_model_name": "LayoutModel",
            "_view_count": null,
            "_view_module": "@jupyter-widgets/base",
            "_view_module_version": "1.2.0",
            "_view_name": "LayoutView",
            "align_content": null,
            "align_items": null,
            "align_self": null,
            "border": null,
            "bottom": null,
            "display": null,
            "flex": null,
            "flex_flow": null,
            "grid_area": null,
            "grid_auto_columns": null,
            "grid_auto_flow": null,
            "grid_auto_rows": null,
            "grid_column": null,
            "grid_gap": null,
            "grid_row": null,
            "grid_template_areas": null,
            "grid_template_columns": null,
            "grid_template_rows": null,
            "height": null,
            "justify_content": null,
            "justify_items": null,
            "left": null,
            "margin": null,
            "max_height": null,
            "max_width": null,
            "min_height": null,
            "min_width": null,
            "object_fit": null,
            "object_position": null,
            "order": null,
            "overflow": null,
            "overflow_x": null,
            "overflow_y": null,
            "padding": null,
            "right": null,
            "top": null,
            "visibility": null,
            "width": null
          }
        },
        "7e64b71959f74dc8a8c7a9de49f0c379": {
          "model_module": "@jupyter-widgets/base",
          "model_name": "LayoutModel",
          "model_module_version": "1.2.0",
          "state": {
            "_model_module": "@jupyter-widgets/base",
            "_model_module_version": "1.2.0",
            "_model_name": "LayoutModel",
            "_view_count": null,
            "_view_module": "@jupyter-widgets/base",
            "_view_module_version": "1.2.0",
            "_view_name": "LayoutView",
            "align_content": null,
            "align_items": null,
            "align_self": null,
            "border": null,
            "bottom": null,
            "display": null,
            "flex": null,
            "flex_flow": null,
            "grid_area": null,
            "grid_auto_columns": null,
            "grid_auto_flow": null,
            "grid_auto_rows": null,
            "grid_column": null,
            "grid_gap": null,
            "grid_row": null,
            "grid_template_areas": null,
            "grid_template_columns": null,
            "grid_template_rows": null,
            "height": null,
            "justify_content": null,
            "justify_items": null,
            "left": null,
            "margin": null,
            "max_height": null,
            "max_width": null,
            "min_height": null,
            "min_width": null,
            "object_fit": null,
            "object_position": null,
            "order": null,
            "overflow": null,
            "overflow_x": null,
            "overflow_y": null,
            "padding": null,
            "right": null,
            "top": null,
            "visibility": null,
            "width": null
          }
        },
        "c56350c3663f462c8964c5c43f07fd26": {
          "model_module": "@jupyter-widgets/controls",
          "model_name": "DescriptionStyleModel",
          "model_module_version": "1.5.0",
          "state": {
            "_model_module": "@jupyter-widgets/controls",
            "_model_module_version": "1.5.0",
            "_model_name": "DescriptionStyleModel",
            "_view_count": null,
            "_view_module": "@jupyter-widgets/base",
            "_view_module_version": "1.2.0",
            "_view_name": "StyleView",
            "description_width": ""
          }
        },
        "b66fce2732564691a2ee0a1fd202ae98": {
          "model_module": "@jupyter-widgets/base",
          "model_name": "LayoutModel",
          "model_module_version": "1.2.0",
          "state": {
            "_model_module": "@jupyter-widgets/base",
            "_model_module_version": "1.2.0",
            "_model_name": "LayoutModel",
            "_view_count": null,
            "_view_module": "@jupyter-widgets/base",
            "_view_module_version": "1.2.0",
            "_view_name": "LayoutView",
            "align_content": null,
            "align_items": null,
            "align_self": null,
            "border": null,
            "bottom": null,
            "display": null,
            "flex": null,
            "flex_flow": null,
            "grid_area": null,
            "grid_auto_columns": null,
            "grid_auto_flow": null,
            "grid_auto_rows": null,
            "grid_column": null,
            "grid_gap": null,
            "grid_row": null,
            "grid_template_areas": null,
            "grid_template_columns": null,
            "grid_template_rows": null,
            "height": null,
            "justify_content": null,
            "justify_items": null,
            "left": null,
            "margin": null,
            "max_height": null,
            "max_width": null,
            "min_height": null,
            "min_width": null,
            "object_fit": null,
            "object_position": null,
            "order": null,
            "overflow": null,
            "overflow_x": null,
            "overflow_y": null,
            "padding": null,
            "right": null,
            "top": null,
            "visibility": null,
            "width": null
          }
        },
        "c4d6467280b8425990ee8a9138940ede": {
          "model_module": "@jupyter-widgets/controls",
          "model_name": "ProgressStyleModel",
          "model_module_version": "1.5.0",
          "state": {
            "_model_module": "@jupyter-widgets/controls",
            "_model_module_version": "1.5.0",
            "_model_name": "ProgressStyleModel",
            "_view_count": null,
            "_view_module": "@jupyter-widgets/base",
            "_view_module_version": "1.2.0",
            "_view_name": "StyleView",
            "bar_color": null,
            "description_width": ""
          }
        },
        "dc25562c62844a95a2203aceca6cc6aa": {
          "model_module": "@jupyter-widgets/base",
          "model_name": "LayoutModel",
          "model_module_version": "1.2.0",
          "state": {
            "_model_module": "@jupyter-widgets/base",
            "_model_module_version": "1.2.0",
            "_model_name": "LayoutModel",
            "_view_count": null,
            "_view_module": "@jupyter-widgets/base",
            "_view_module_version": "1.2.0",
            "_view_name": "LayoutView",
            "align_content": null,
            "align_items": null,
            "align_self": null,
            "border": null,
            "bottom": null,
            "display": null,
            "flex": null,
            "flex_flow": null,
            "grid_area": null,
            "grid_auto_columns": null,
            "grid_auto_flow": null,
            "grid_auto_rows": null,
            "grid_column": null,
            "grid_gap": null,
            "grid_row": null,
            "grid_template_areas": null,
            "grid_template_columns": null,
            "grid_template_rows": null,
            "height": null,
            "justify_content": null,
            "justify_items": null,
            "left": null,
            "margin": null,
            "max_height": null,
            "max_width": null,
            "min_height": null,
            "min_width": null,
            "object_fit": null,
            "object_position": null,
            "order": null,
            "overflow": null,
            "overflow_x": null,
            "overflow_y": null,
            "padding": null,
            "right": null,
            "top": null,
            "visibility": null,
            "width": null
          }
        },
        "05fd7dc69ce24fb78a5f4c70c9fe04f1": {
          "model_module": "@jupyter-widgets/controls",
          "model_name": "DescriptionStyleModel",
          "model_module_version": "1.5.0",
          "state": {
            "_model_module": "@jupyter-widgets/controls",
            "_model_module_version": "1.5.0",
            "_model_name": "DescriptionStyleModel",
            "_view_count": null,
            "_view_module": "@jupyter-widgets/base",
            "_view_module_version": "1.2.0",
            "_view_name": "StyleView",
            "description_width": ""
          }
        },
        "82909fd4503a4e53a02d7187fadecc25": {
          "model_module": "@jupyter-widgets/controls",
          "model_name": "HBoxModel",
          "model_module_version": "1.5.0",
          "state": {
            "_dom_classes": [],
            "_model_module": "@jupyter-widgets/controls",
            "_model_module_version": "1.5.0",
            "_model_name": "HBoxModel",
            "_view_count": null,
            "_view_module": "@jupyter-widgets/controls",
            "_view_module_version": "1.5.0",
            "_view_name": "HBoxView",
            "box_style": "",
            "children": [
              "IPY_MODEL_1e242747729f43048c56eb7dad368295",
              "IPY_MODEL_906daa23acaa4d45aed7893019973ce8",
              "IPY_MODEL_4d2b9ec161cc40ae93e3e12a0a4b5553"
            ],
            "layout": "IPY_MODEL_8ea5135a18cd43608b33694a2ce1ea08"
          }
        },
        "1e242747729f43048c56eb7dad368295": {
          "model_module": "@jupyter-widgets/controls",
          "model_name": "HTMLModel",
          "model_module_version": "1.5.0",
          "state": {
            "_dom_classes": [],
            "_model_module": "@jupyter-widgets/controls",
            "_model_module_version": "1.5.0",
            "_model_name": "HTMLModel",
            "_view_count": null,
            "_view_module": "@jupyter-widgets/controls",
            "_view_module_version": "1.5.0",
            "_view_name": "HTMLView",
            "description": "",
            "description_tooltip": null,
            "layout": "IPY_MODEL_67cea55f6fb4414ab96e46333d71dff4",
            "placeholder": "​",
            "style": "IPY_MODEL_bed71221c3384e5da27edafc3b0059d7",
            "value": "Downloading: 100%"
          }
        },
        "906daa23acaa4d45aed7893019973ce8": {
          "model_module": "@jupyter-widgets/controls",
          "model_name": "FloatProgressModel",
          "model_module_version": "1.5.0",
          "state": {
            "_dom_classes": [],
            "_model_module": "@jupyter-widgets/controls",
            "_model_module_version": "1.5.0",
            "_model_name": "FloatProgressModel",
            "_view_count": null,
            "_view_module": "@jupyter-widgets/controls",
            "_view_module_version": "1.5.0",
            "_view_name": "ProgressView",
            "bar_style": "success",
            "description": "",
            "description_tooltip": null,
            "layout": "IPY_MODEL_12e92ffc0745420f9da0731bd500993d",
            "max": 570,
            "min": 0,
            "orientation": "horizontal",
            "style": "IPY_MODEL_bdb441e537684fedba9be98d140ca5ba",
            "value": 570
          }
        },
        "4d2b9ec161cc40ae93e3e12a0a4b5553": {
          "model_module": "@jupyter-widgets/controls",
          "model_name": "HTMLModel",
          "model_module_version": "1.5.0",
          "state": {
            "_dom_classes": [],
            "_model_module": "@jupyter-widgets/controls",
            "_model_module_version": "1.5.0",
            "_model_name": "HTMLModel",
            "_view_count": null,
            "_view_module": "@jupyter-widgets/controls",
            "_view_module_version": "1.5.0",
            "_view_name": "HTMLView",
            "description": "",
            "description_tooltip": null,
            "layout": "IPY_MODEL_c82f4b34cba642cab9a22a2c347ea659",
            "placeholder": "​",
            "style": "IPY_MODEL_0b582b7203bb4abe8eeeecab72405812",
            "value": " 570/570 [00:00&lt;00:00, 11.6kB/s]"
          }
        },
        "8ea5135a18cd43608b33694a2ce1ea08": {
          "model_module": "@jupyter-widgets/base",
          "model_name": "LayoutModel",
          "model_module_version": "1.2.0",
          "state": {
            "_model_module": "@jupyter-widgets/base",
            "_model_module_version": "1.2.0",
            "_model_name": "LayoutModel",
            "_view_count": null,
            "_view_module": "@jupyter-widgets/base",
            "_view_module_version": "1.2.0",
            "_view_name": "LayoutView",
            "align_content": null,
            "align_items": null,
            "align_self": null,
            "border": null,
            "bottom": null,
            "display": null,
            "flex": null,
            "flex_flow": null,
            "grid_area": null,
            "grid_auto_columns": null,
            "grid_auto_flow": null,
            "grid_auto_rows": null,
            "grid_column": null,
            "grid_gap": null,
            "grid_row": null,
            "grid_template_areas": null,
            "grid_template_columns": null,
            "grid_template_rows": null,
            "height": null,
            "justify_content": null,
            "justify_items": null,
            "left": null,
            "margin": null,
            "max_height": null,
            "max_width": null,
            "min_height": null,
            "min_width": null,
            "object_fit": null,
            "object_position": null,
            "order": null,
            "overflow": null,
            "overflow_x": null,
            "overflow_y": null,
            "padding": null,
            "right": null,
            "top": null,
            "visibility": null,
            "width": null
          }
        },
        "67cea55f6fb4414ab96e46333d71dff4": {
          "model_module": "@jupyter-widgets/base",
          "model_name": "LayoutModel",
          "model_module_version": "1.2.0",
          "state": {
            "_model_module": "@jupyter-widgets/base",
            "_model_module_version": "1.2.0",
            "_model_name": "LayoutModel",
            "_view_count": null,
            "_view_module": "@jupyter-widgets/base",
            "_view_module_version": "1.2.0",
            "_view_name": "LayoutView",
            "align_content": null,
            "align_items": null,
            "align_self": null,
            "border": null,
            "bottom": null,
            "display": null,
            "flex": null,
            "flex_flow": null,
            "grid_area": null,
            "grid_auto_columns": null,
            "grid_auto_flow": null,
            "grid_auto_rows": null,
            "grid_column": null,
            "grid_gap": null,
            "grid_row": null,
            "grid_template_areas": null,
            "grid_template_columns": null,
            "grid_template_rows": null,
            "height": null,
            "justify_content": null,
            "justify_items": null,
            "left": null,
            "margin": null,
            "max_height": null,
            "max_width": null,
            "min_height": null,
            "min_width": null,
            "object_fit": null,
            "object_position": null,
            "order": null,
            "overflow": null,
            "overflow_x": null,
            "overflow_y": null,
            "padding": null,
            "right": null,
            "top": null,
            "visibility": null,
            "width": null
          }
        },
        "bed71221c3384e5da27edafc3b0059d7": {
          "model_module": "@jupyter-widgets/controls",
          "model_name": "DescriptionStyleModel",
          "model_module_version": "1.5.0",
          "state": {
            "_model_module": "@jupyter-widgets/controls",
            "_model_module_version": "1.5.0",
            "_model_name": "DescriptionStyleModel",
            "_view_count": null,
            "_view_module": "@jupyter-widgets/base",
            "_view_module_version": "1.2.0",
            "_view_name": "StyleView",
            "description_width": ""
          }
        },
        "12e92ffc0745420f9da0731bd500993d": {
          "model_module": "@jupyter-widgets/base",
          "model_name": "LayoutModel",
          "model_module_version": "1.2.0",
          "state": {
            "_model_module": "@jupyter-widgets/base",
            "_model_module_version": "1.2.0",
            "_model_name": "LayoutModel",
            "_view_count": null,
            "_view_module": "@jupyter-widgets/base",
            "_view_module_version": "1.2.0",
            "_view_name": "LayoutView",
            "align_content": null,
            "align_items": null,
            "align_self": null,
            "border": null,
            "bottom": null,
            "display": null,
            "flex": null,
            "flex_flow": null,
            "grid_area": null,
            "grid_auto_columns": null,
            "grid_auto_flow": null,
            "grid_auto_rows": null,
            "grid_column": null,
            "grid_gap": null,
            "grid_row": null,
            "grid_template_areas": null,
            "grid_template_columns": null,
            "grid_template_rows": null,
            "height": null,
            "justify_content": null,
            "justify_items": null,
            "left": null,
            "margin": null,
            "max_height": null,
            "max_width": null,
            "min_height": null,
            "min_width": null,
            "object_fit": null,
            "object_position": null,
            "order": null,
            "overflow": null,
            "overflow_x": null,
            "overflow_y": null,
            "padding": null,
            "right": null,
            "top": null,
            "visibility": null,
            "width": null
          }
        },
        "bdb441e537684fedba9be98d140ca5ba": {
          "model_module": "@jupyter-widgets/controls",
          "model_name": "ProgressStyleModel",
          "model_module_version": "1.5.0",
          "state": {
            "_model_module": "@jupyter-widgets/controls",
            "_model_module_version": "1.5.0",
            "_model_name": "ProgressStyleModel",
            "_view_count": null,
            "_view_module": "@jupyter-widgets/base",
            "_view_module_version": "1.2.0",
            "_view_name": "StyleView",
            "bar_color": null,
            "description_width": ""
          }
        },
        "c82f4b34cba642cab9a22a2c347ea659": {
          "model_module": "@jupyter-widgets/base",
          "model_name": "LayoutModel",
          "model_module_version": "1.2.0",
          "state": {
            "_model_module": "@jupyter-widgets/base",
            "_model_module_version": "1.2.0",
            "_model_name": "LayoutModel",
            "_view_count": null,
            "_view_module": "@jupyter-widgets/base",
            "_view_module_version": "1.2.0",
            "_view_name": "LayoutView",
            "align_content": null,
            "align_items": null,
            "align_self": null,
            "border": null,
            "bottom": null,
            "display": null,
            "flex": null,
            "flex_flow": null,
            "grid_area": null,
            "grid_auto_columns": null,
            "grid_auto_flow": null,
            "grid_auto_rows": null,
            "grid_column": null,
            "grid_gap": null,
            "grid_row": null,
            "grid_template_areas": null,
            "grid_template_columns": null,
            "grid_template_rows": null,
            "height": null,
            "justify_content": null,
            "justify_items": null,
            "left": null,
            "margin": null,
            "max_height": null,
            "max_width": null,
            "min_height": null,
            "min_width": null,
            "object_fit": null,
            "object_position": null,
            "order": null,
            "overflow": null,
            "overflow_x": null,
            "overflow_y": null,
            "padding": null,
            "right": null,
            "top": null,
            "visibility": null,
            "width": null
          }
        },
        "0b582b7203bb4abe8eeeecab72405812": {
          "model_module": "@jupyter-widgets/controls",
          "model_name": "DescriptionStyleModel",
          "model_module_version": "1.5.0",
          "state": {
            "_model_module": "@jupyter-widgets/controls",
            "_model_module_version": "1.5.0",
            "_model_name": "DescriptionStyleModel",
            "_view_count": null,
            "_view_module": "@jupyter-widgets/base",
            "_view_module_version": "1.2.0",
            "_view_name": "StyleView",
            "description_width": ""
          }
        },
        "cc6611f34fd74e2d8b48d28451d46fad": {
          "model_module": "@jupyter-widgets/controls",
          "model_name": "HBoxModel",
          "model_module_version": "1.5.0",
          "state": {
            "_dom_classes": [],
            "_model_module": "@jupyter-widgets/controls",
            "_model_module_version": "1.5.0",
            "_model_name": "HBoxModel",
            "_view_count": null,
            "_view_module": "@jupyter-widgets/controls",
            "_view_module_version": "1.5.0",
            "_view_name": "HBoxView",
            "box_style": "",
            "children": [
              "IPY_MODEL_714aa38824bc41bf817b592ccc40d779",
              "IPY_MODEL_740a28514d84422d88e247928a131a24",
              "IPY_MODEL_f93eb166133f4b4693e7974ade746fb3"
            ],
            "layout": "IPY_MODEL_569718950e9948119a25ce72a8098735"
          }
        },
        "714aa38824bc41bf817b592ccc40d779": {
          "model_module": "@jupyter-widgets/controls",
          "model_name": "HTMLModel",
          "model_module_version": "1.5.0",
          "state": {
            "_dom_classes": [],
            "_model_module": "@jupyter-widgets/controls",
            "_model_module_version": "1.5.0",
            "_model_name": "HTMLModel",
            "_view_count": null,
            "_view_module": "@jupyter-widgets/controls",
            "_view_module_version": "1.5.0",
            "_view_name": "HTMLView",
            "description": "",
            "description_tooltip": null,
            "layout": "IPY_MODEL_b73e4d23906f4746ba2433f3e0424667",
            "placeholder": "​",
            "style": "IPY_MODEL_1473534cea1e4bfe827ef910ffe4c1c6",
            "value": "Downloading: 100%"
          }
        },
        "740a28514d84422d88e247928a131a24": {
          "model_module": "@jupyter-widgets/controls",
          "model_name": "FloatProgressModel",
          "model_module_version": "1.5.0",
          "state": {
            "_dom_classes": [],
            "_model_module": "@jupyter-widgets/controls",
            "_model_module_version": "1.5.0",
            "_model_name": "FloatProgressModel",
            "_view_count": null,
            "_view_module": "@jupyter-widgets/controls",
            "_view_module_version": "1.5.0",
            "_view_name": "ProgressView",
            "bar_style": "success",
            "description": "",
            "description_tooltip": null,
            "layout": "IPY_MODEL_c11941d515dc4c079976d7d76930c715",
            "max": 536063208,
            "min": 0,
            "orientation": "horizontal",
            "style": "IPY_MODEL_17d29eabbf404ccbb7325cdf4ef29a44",
            "value": 536063208
          }
        },
        "f93eb166133f4b4693e7974ade746fb3": {
          "model_module": "@jupyter-widgets/controls",
          "model_name": "HTMLModel",
          "model_module_version": "1.5.0",
          "state": {
            "_dom_classes": [],
            "_model_module": "@jupyter-widgets/controls",
            "_model_module_version": "1.5.0",
            "_model_name": "HTMLModel",
            "_view_count": null,
            "_view_module": "@jupyter-widgets/controls",
            "_view_module_version": "1.5.0",
            "_view_name": "HTMLView",
            "description": "",
            "description_tooltip": null,
            "layout": "IPY_MODEL_d4ae35ef1b9a4ab1999cc370f7fdef71",
            "placeholder": "​",
            "style": "IPY_MODEL_ff59759fb4fb43a988e63fc625eb372c",
            "value": " 511M/511M [00:12&lt;00:00, 44.3MB/s]"
          }
        },
        "569718950e9948119a25ce72a8098735": {
          "model_module": "@jupyter-widgets/base",
          "model_name": "LayoutModel",
          "model_module_version": "1.2.0",
          "state": {
            "_model_module": "@jupyter-widgets/base",
            "_model_module_version": "1.2.0",
            "_model_name": "LayoutModel",
            "_view_count": null,
            "_view_module": "@jupyter-widgets/base",
            "_view_module_version": "1.2.0",
            "_view_name": "LayoutView",
            "align_content": null,
            "align_items": null,
            "align_self": null,
            "border": null,
            "bottom": null,
            "display": null,
            "flex": null,
            "flex_flow": null,
            "grid_area": null,
            "grid_auto_columns": null,
            "grid_auto_flow": null,
            "grid_auto_rows": null,
            "grid_column": null,
            "grid_gap": null,
            "grid_row": null,
            "grid_template_areas": null,
            "grid_template_columns": null,
            "grid_template_rows": null,
            "height": null,
            "justify_content": null,
            "justify_items": null,
            "left": null,
            "margin": null,
            "max_height": null,
            "max_width": null,
            "min_height": null,
            "min_width": null,
            "object_fit": null,
            "object_position": null,
            "order": null,
            "overflow": null,
            "overflow_x": null,
            "overflow_y": null,
            "padding": null,
            "right": null,
            "top": null,
            "visibility": null,
            "width": null
          }
        },
        "b73e4d23906f4746ba2433f3e0424667": {
          "model_module": "@jupyter-widgets/base",
          "model_name": "LayoutModel",
          "model_module_version": "1.2.0",
          "state": {
            "_model_module": "@jupyter-widgets/base",
            "_model_module_version": "1.2.0",
            "_model_name": "LayoutModel",
            "_view_count": null,
            "_view_module": "@jupyter-widgets/base",
            "_view_module_version": "1.2.0",
            "_view_name": "LayoutView",
            "align_content": null,
            "align_items": null,
            "align_self": null,
            "border": null,
            "bottom": null,
            "display": null,
            "flex": null,
            "flex_flow": null,
            "grid_area": null,
            "grid_auto_columns": null,
            "grid_auto_flow": null,
            "grid_auto_rows": null,
            "grid_column": null,
            "grid_gap": null,
            "grid_row": null,
            "grid_template_areas": null,
            "grid_template_columns": null,
            "grid_template_rows": null,
            "height": null,
            "justify_content": null,
            "justify_items": null,
            "left": null,
            "margin": null,
            "max_height": null,
            "max_width": null,
            "min_height": null,
            "min_width": null,
            "object_fit": null,
            "object_position": null,
            "order": null,
            "overflow": null,
            "overflow_x": null,
            "overflow_y": null,
            "padding": null,
            "right": null,
            "top": null,
            "visibility": null,
            "width": null
          }
        },
        "1473534cea1e4bfe827ef910ffe4c1c6": {
          "model_module": "@jupyter-widgets/controls",
          "model_name": "DescriptionStyleModel",
          "model_module_version": "1.5.0",
          "state": {
            "_model_module": "@jupyter-widgets/controls",
            "_model_module_version": "1.5.0",
            "_model_name": "DescriptionStyleModel",
            "_view_count": null,
            "_view_module": "@jupyter-widgets/base",
            "_view_module_version": "1.2.0",
            "_view_name": "StyleView",
            "description_width": ""
          }
        },
        "c11941d515dc4c079976d7d76930c715": {
          "model_module": "@jupyter-widgets/base",
          "model_name": "LayoutModel",
          "model_module_version": "1.2.0",
          "state": {
            "_model_module": "@jupyter-widgets/base",
            "_model_module_version": "1.2.0",
            "_model_name": "LayoutModel",
            "_view_count": null,
            "_view_module": "@jupyter-widgets/base",
            "_view_module_version": "1.2.0",
            "_view_name": "LayoutView",
            "align_content": null,
            "align_items": null,
            "align_self": null,
            "border": null,
            "bottom": null,
            "display": null,
            "flex": null,
            "flex_flow": null,
            "grid_area": null,
            "grid_auto_columns": null,
            "grid_auto_flow": null,
            "grid_auto_rows": null,
            "grid_column": null,
            "grid_gap": null,
            "grid_row": null,
            "grid_template_areas": null,
            "grid_template_columns": null,
            "grid_template_rows": null,
            "height": null,
            "justify_content": null,
            "justify_items": null,
            "left": null,
            "margin": null,
            "max_height": null,
            "max_width": null,
            "min_height": null,
            "min_width": null,
            "object_fit": null,
            "object_position": null,
            "order": null,
            "overflow": null,
            "overflow_x": null,
            "overflow_y": null,
            "padding": null,
            "right": null,
            "top": null,
            "visibility": null,
            "width": null
          }
        },
        "17d29eabbf404ccbb7325cdf4ef29a44": {
          "model_module": "@jupyter-widgets/controls",
          "model_name": "ProgressStyleModel",
          "model_module_version": "1.5.0",
          "state": {
            "_model_module": "@jupyter-widgets/controls",
            "_model_module_version": "1.5.0",
            "_model_name": "ProgressStyleModel",
            "_view_count": null,
            "_view_module": "@jupyter-widgets/base",
            "_view_module_version": "1.2.0",
            "_view_name": "StyleView",
            "bar_color": null,
            "description_width": ""
          }
        },
        "d4ae35ef1b9a4ab1999cc370f7fdef71": {
          "model_module": "@jupyter-widgets/base",
          "model_name": "LayoutModel",
          "model_module_version": "1.2.0",
          "state": {
            "_model_module": "@jupyter-widgets/base",
            "_model_module_version": "1.2.0",
            "_model_name": "LayoutModel",
            "_view_count": null,
            "_view_module": "@jupyter-widgets/base",
            "_view_module_version": "1.2.0",
            "_view_name": "LayoutView",
            "align_content": null,
            "align_items": null,
            "align_self": null,
            "border": null,
            "bottom": null,
            "display": null,
            "flex": null,
            "flex_flow": null,
            "grid_area": null,
            "grid_auto_columns": null,
            "grid_auto_flow": null,
            "grid_auto_rows": null,
            "grid_column": null,
            "grid_gap": null,
            "grid_row": null,
            "grid_template_areas": null,
            "grid_template_columns": null,
            "grid_template_rows": null,
            "height": null,
            "justify_content": null,
            "justify_items": null,
            "left": null,
            "margin": null,
            "max_height": null,
            "max_width": null,
            "min_height": null,
            "min_width": null,
            "object_fit": null,
            "object_position": null,
            "order": null,
            "overflow": null,
            "overflow_x": null,
            "overflow_y": null,
            "padding": null,
            "right": null,
            "top": null,
            "visibility": null,
            "width": null
          }
        },
        "ff59759fb4fb43a988e63fc625eb372c": {
          "model_module": "@jupyter-widgets/controls",
          "model_name": "DescriptionStyleModel",
          "model_module_version": "1.5.0",
          "state": {
            "_model_module": "@jupyter-widgets/controls",
            "_model_module_version": "1.5.0",
            "_model_name": "DescriptionStyleModel",
            "_view_count": null,
            "_view_module": "@jupyter-widgets/base",
            "_view_module_version": "1.2.0",
            "_view_name": "StyleView",
            "description_width": ""
          }
        }
      }
    }
  },
  "cells": [
    {
      "cell_type": "code",
      "metadata": {
        "colab": {
          "base_uri": "https://localhost:8080/"
        },
        "id": "KwfgKJUwikSZ",
        "outputId": "7824b510-e36f-4c89-9061-155347cb1052"
      },
      "source": [
        "!pip install transformers\n",
        "!pip install tokenizers\n",
        "!pip install seqeval"
      ],
      "execution_count": null,
      "outputs": [
        {
          "output_type": "stream",
          "name": "stdout",
          "text": [
            "Looking in indexes: https://pypi.org/simple, https://us-python.pkg.dev/colab-wheels/public/simple/\n",
            "Requirement already satisfied: transformers in /usr/local/lib/python3.7/dist-packages (4.20.1)\n",
            "Requirement already satisfied: huggingface-hub<1.0,>=0.1.0 in /usr/local/lib/python3.7/dist-packages (from transformers) (0.8.1)\n",
            "Requirement already satisfied: importlib-metadata in /usr/local/lib/python3.7/dist-packages (from transformers) (4.11.4)\n",
            "Requirement already satisfied: requests in /usr/local/lib/python3.7/dist-packages (from transformers) (2.23.0)\n",
            "Requirement already satisfied: packaging>=20.0 in /usr/local/lib/python3.7/dist-packages (from transformers) (21.3)\n",
            "Requirement already satisfied: tokenizers!=0.11.3,<0.13,>=0.11.1 in /usr/local/lib/python3.7/dist-packages (from transformers) (0.12.1)\n",
            "Requirement already satisfied: filelock in /usr/local/lib/python3.7/dist-packages (from transformers) (3.7.1)\n",
            "Requirement already satisfied: tqdm>=4.27 in /usr/local/lib/python3.7/dist-packages (from transformers) (4.64.0)\n",
            "Requirement already satisfied: pyyaml>=5.1 in /usr/local/lib/python3.7/dist-packages (from transformers) (6.0)\n",
            "Requirement already satisfied: numpy>=1.17 in /usr/local/lib/python3.7/dist-packages (from transformers) (1.21.6)\n",
            "Requirement already satisfied: regex!=2019.12.17 in /usr/local/lib/python3.7/dist-packages (from transformers) (2022.6.2)\n",
            "Requirement already satisfied: typing-extensions>=3.7.4.3 in /usr/local/lib/python3.7/dist-packages (from huggingface-hub<1.0,>=0.1.0->transformers) (4.1.1)\n",
            "Requirement already satisfied: pyparsing!=3.0.5,>=2.0.2 in /usr/local/lib/python3.7/dist-packages (from packaging>=20.0->transformers) (3.0.9)\n",
            "Requirement already satisfied: zipp>=0.5 in /usr/local/lib/python3.7/dist-packages (from importlib-metadata->transformers) (3.8.0)\n",
            "Requirement already satisfied: idna<3,>=2.5 in /usr/local/lib/python3.7/dist-packages (from requests->transformers) (2.10)\n",
            "Requirement already satisfied: certifi>=2017.4.17 in /usr/local/lib/python3.7/dist-packages (from requests->transformers) (2022.6.15)\n",
            "Requirement already satisfied: chardet<4,>=3.0.2 in /usr/local/lib/python3.7/dist-packages (from requests->transformers) (3.0.4)\n",
            "Requirement already satisfied: urllib3!=1.25.0,!=1.25.1,<1.26,>=1.21.1 in /usr/local/lib/python3.7/dist-packages (from requests->transformers) (1.24.3)\n",
            "Looking in indexes: https://pypi.org/simple, https://us-python.pkg.dev/colab-wheels/public/simple/\n",
            "Requirement already satisfied: tokenizers in /usr/local/lib/python3.7/dist-packages (0.12.1)\n",
            "Looking in indexes: https://pypi.org/simple, https://us-python.pkg.dev/colab-wheels/public/simple/\n",
            "Requirement already satisfied: seqeval in /usr/local/lib/python3.7/dist-packages (1.2.2)\n",
            "Requirement already satisfied: scikit-learn>=0.21.3 in /usr/local/lib/python3.7/dist-packages (from seqeval) (1.0.2)\n",
            "Requirement already satisfied: numpy>=1.14.0 in /usr/local/lib/python3.7/dist-packages (from seqeval) (1.21.6)\n",
            "Requirement already satisfied: threadpoolctl>=2.0.0 in /usr/local/lib/python3.7/dist-packages (from scikit-learn>=0.21.3->seqeval) (3.1.0)\n",
            "Requirement already satisfied: scipy>=1.1.0 in /usr/local/lib/python3.7/dist-packages (from scikit-learn>=0.21.3->seqeval) (1.4.1)\n",
            "Requirement already satisfied: joblib>=0.11 in /usr/local/lib/python3.7/dist-packages (from scikit-learn>=0.21.3->seqeval) (1.1.0)\n"
          ]
        }
      ]
    },
    {
      "cell_type": "code",
      "source": [
        "##!pip install -q --upgrade ipython\n",
        "##!pip install -q --upgrade ipykernel"
      ],
      "metadata": {
        "id": "8DXA2UJdei7J"
      },
      "execution_count": null,
      "outputs": []
    },
    {
      "cell_type": "markdown",
      "source": [
        "##**Model**: Feed BERT embedding to BiLSTM "
      ],
      "metadata": {
        "id": "EEkrjrs022wc"
      }
    },
    {
      "cell_type": "markdown",
      "source": [
        "![Capture d’écran 2022-06-24 143701.png](data:image/png;base64,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)"
      ],
      "metadata": {
        "id": "p8B8J-CR2pZA"
      }
    },
    {
      "cell_type": "code",
      "metadata": {
        "trusted": true,
        "id": "Nk7Y5OwHihBA"
      },
      "source": [
        "import os\n",
        "import re\n",
        "import json\n",
        "import string\n",
        "import numpy as np\n",
        "import pandas as pd\n",
        "\n",
        "import tensorflow as tf\n",
        "\n",
        "from tensorflow.keras import layers, models\n",
        "from tensorflow.keras import metrics, optimizers, losses\n",
        "from tensorflow import keras\n",
        "from tensorflow.keras import layers\n",
        "from sklearn import preprocessing\n",
        "from tokenizers import BertWordPieceTokenizer\n",
        "from transformers import BertTokenizer, TFBertModel, BertConfig"
      ],
      "execution_count": null,
      "outputs": []
    },
    {
      "cell_type": "code",
      "metadata": {
        "id": "kHWpqtWiiWiu",
        "colab": {
          "base_uri": "https://localhost:8080/"
        },
        "outputId": "77a27e25-25b6-4f40-8eb0-7b64d3f4fb38"
      },
      "source": [
        "#import os\n",
        "from google.colab import  drive\n",
        "drive.mount('/drive')\n",
        "data_csv = pd.read_csv(\"/drive/My Drive/ner_df1.csv\", encoding=\"latin1\").fillna(method=\"ffill\")"
      ],
      "execution_count": null,
      "outputs": [
        {
          "output_type": "stream",
          "name": "stdout",
          "text": [
            "Mounted at /drive\n"
          ]
        }
      ]
    },
    {
      "cell_type": "code",
      "source": [
        "print(\"unique words; \",data_csv[\"Word\"].nunique())\n",
        "print(\"unique tags; \",data_csv[\"Tag\"].nunique())"
      ],
      "metadata": {
        "colab": {
          "base_uri": "https://localhost:8080/"
        },
        "id": "E6EwKdqhiMhN",
        "outputId": "91241fb7-72fb-41d6-a4cc-e15c49951422"
      },
      "execution_count": null,
      "outputs": [
        {
          "output_type": "stream",
          "name": "stdout",
          "text": [
            "unique words;  112265\n",
            "unique tags;  23\n"
          ]
        }
      ]
    },
    {
      "cell_type": "code",
      "source": [
        "data_csv.head()"
      ],
      "metadata": {
        "colab": {
          "base_uri": "https://localhost:8080/",
          "height": 206
        },
        "id": "tbm7E3JErQYt",
        "outputId": "d88589cc-07fd-4946-e949-1f6c22fc0137"
      },
      "execution_count": null,
      "outputs": [
        {
          "output_type": "execute_result",
          "data": {
            "text/plain": [
              "   Unnamed: 0  Sentence #       Word                    Tag\n",
              "0           0           1        The                      O\n",
              "1           1           1     Google  B-ExploitTargetObject\n",
              "2           2           1      hacks                      O\n",
              "3           3           1  Operation             B-COMPAIGN\n",
              "4           4           1     Aurora             I-COMPAIGN"
            ],
            "text/html": [
              "\n",
              "  <div id=\"df-4e17bbc9-bb39-41b8-965a-f35509f27b1a\">\n",
              "    <div class=\"colab-df-container\">\n",
              "      <div>\n",
              "<style scoped>\n",
              "    .dataframe tbody tr th:only-of-type {\n",
              "        vertical-align: middle;\n",
              "    }\n",
              "\n",
              "    .dataframe tbody tr th {\n",
              "        vertical-align: top;\n",
              "    }\n",
              "\n",
              "    .dataframe thead th {\n",
              "        text-align: right;\n",
              "    }\n",
              "</style>\n",
              "<table border=\"1\" class=\"dataframe\">\n",
              "  <thead>\n",
              "    <tr style=\"text-align: right;\">\n",
              "      <th></th>\n",
              "      <th>Unnamed: 0</th>\n",
              "      <th>Sentence #</th>\n",
              "      <th>Word</th>\n",
              "      <th>Tag</th>\n",
              "    </tr>\n",
              "  </thead>\n",
              "  <tbody>\n",
              "    <tr>\n",
              "      <th>0</th>\n",
              "      <td>0</td>\n",
              "      <td>1</td>\n",
              "      <td>The</td>\n",
              "      <td>O</td>\n",
              "    </tr>\n",
              "    <tr>\n",
              "      <th>1</th>\n",
              "      <td>1</td>\n",
              "      <td>1</td>\n",
              "      <td>Google</td>\n",
              "      <td>B-ExploitTargetObject</td>\n",
              "    </tr>\n",
              "    <tr>\n",
              "      <th>2</th>\n",
              "      <td>2</td>\n",
              "      <td>1</td>\n",
              "      <td>hacks</td>\n",
              "      <td>O</td>\n",
              "    </tr>\n",
              "    <tr>\n",
              "      <th>3</th>\n",
              "      <td>3</td>\n",
              "      <td>1</td>\n",
              "      <td>Operation</td>\n",
              "      <td>B-COMPAIGN</td>\n",
              "    </tr>\n",
              "    <tr>\n",
              "      <th>4</th>\n",
              "      <td>4</td>\n",
              "      <td>1</td>\n",
              "      <td>Aurora</td>\n",
              "      <td>I-COMPAIGN</td>\n",
              "    </tr>\n",
              "  </tbody>\n",
              "</table>\n",
              "</div>\n",
              "      <button class=\"colab-df-convert\" onclick=\"convertToInteractive('df-4e17bbc9-bb39-41b8-965a-f35509f27b1a')\"\n",
              "              title=\"Convert this dataframe to an interactive table.\"\n",
              "              style=\"display:none;\">\n",
              "        \n",
              "  <svg xmlns=\"http://www.w3.org/2000/svg\" height=\"24px\"viewBox=\"0 0 24 24\"\n",
              "       width=\"24px\">\n",
              "    <path d=\"M0 0h24v24H0V0z\" fill=\"none\"/>\n",
              "    <path d=\"M18.56 5.44l.94 2.06.94-2.06 2.06-.94-2.06-.94-.94-2.06-.94 2.06-2.06.94zm-11 1L8.5 8.5l.94-2.06 2.06-.94-2.06-.94L8.5 2.5l-.94 2.06-2.06.94zm10 10l.94 2.06.94-2.06 2.06-.94-2.06-.94-.94-2.06-.94 2.06-2.06.94z\"/><path d=\"M17.41 7.96l-1.37-1.37c-.4-.4-.92-.59-1.43-.59-.52 0-1.04.2-1.43.59L10.3 9.45l-7.72 7.72c-.78.78-.78 2.05 0 2.83L4 21.41c.39.39.9.59 1.41.59.51 0 1.02-.2 1.41-.59l7.78-7.78 2.81-2.81c.8-.78.8-2.07 0-2.86zM5.41 20L4 18.59l7.72-7.72 1.47 1.35L5.41 20z\"/>\n",
              "  </svg>\n",
              "      </button>\n",
              "      \n",
              "  <style>\n",
              "    .colab-df-container {\n",
              "      display:flex;\n",
              "      flex-wrap:wrap;\n",
              "      gap: 12px;\n",
              "    }\n",
              "\n",
              "    .colab-df-convert {\n",
              "      background-color: #E8F0FE;\n",
              "      border: none;\n",
              "      border-radius: 50%;\n",
              "      cursor: pointer;\n",
              "      display: none;\n",
              "      fill: #1967D2;\n",
              "      height: 32px;\n",
              "      padding: 0 0 0 0;\n",
              "      width: 32px;\n",
              "    }\n",
              "\n",
              "    .colab-df-convert:hover {\n",
              "      background-color: #E2EBFA;\n",
              "      box-shadow: 0px 1px 2px rgba(60, 64, 67, 0.3), 0px 1px 3px 1px rgba(60, 64, 67, 0.15);\n",
              "      fill: #174EA6;\n",
              "    }\n",
              "\n",
              "    [theme=dark] .colab-df-convert {\n",
              "      background-color: #3B4455;\n",
              "      fill: #D2E3FC;\n",
              "    }\n",
              "\n",
              "    [theme=dark] .colab-df-convert:hover {\n",
              "      background-color: #434B5C;\n",
              "      box-shadow: 0px 1px 3px 1px rgba(0, 0, 0, 0.15);\n",
              "      filter: drop-shadow(0px 1px 2px rgba(0, 0, 0, 0.3));\n",
              "      fill: #FFFFFF;\n",
              "    }\n",
              "  </style>\n",
              "\n",
              "      <script>\n",
              "        const buttonEl =\n",
              "          document.querySelector('#df-4e17bbc9-bb39-41b8-965a-f35509f27b1a button.colab-df-convert');\n",
              "        buttonEl.style.display =\n",
              "          google.colab.kernel.accessAllowed ? 'block' : 'none';\n",
              "\n",
              "        async function convertToInteractive(key) {\n",
              "          const element = document.querySelector('#df-4e17bbc9-bb39-41b8-965a-f35509f27b1a');\n",
              "          const dataTable =\n",
              "            await google.colab.kernel.invokeFunction('convertToInteractive',\n",
              "                                                     [key], {});\n",
              "          if (!dataTable) return;\n",
              "\n",
              "          const docLinkHtml = 'Like what you see? Visit the ' +\n",
              "            '<a target=\"_blank\" href=https://colab.research.google.com/notebooks/data_table.ipynb>data table notebook</a>'\n",
              "            + ' to learn more about interactive tables.';\n",
              "          element.innerHTML = '';\n",
              "          dataTable['output_type'] = 'display_data';\n",
              "          await google.colab.output.renderOutput(dataTable, element);\n",
              "          const docLink = document.createElement('div');\n",
              "          docLink.innerHTML = docLinkHtml;\n",
              "          element.appendChild(docLink);\n",
              "        }\n",
              "      </script>\n",
              "    </div>\n",
              "  </div>\n",
              "  "
            ]
          },
          "metadata": {},
          "execution_count": 6
        }
      ]
    },
    {
      "cell_type": "code",
      "source": [
        "import sklearn.model_selection\n",
        "tags=data_csv['Tag'].unique().tolist()\n",
        "train_dataset, test_dataset = sklearn.model_selection.train_test_split(data_csv, train_size=0.8, test_size=0.2)"
      ],
      "metadata": {
        "id": "n6rohWi2mt-_"
      },
      "execution_count": null,
      "outputs": []
    },
    {
      "cell_type": "code",
      "source": [
        "train_dataset.to_csv('/drive/My Drive/train_dataset.csv')"
      ],
      "metadata": {
        "id": "4wQGn1Pqny3v"
      },
      "execution_count": null,
      "outputs": []
    },
    {
      "cell_type": "code",
      "source": [
        "test_dataset.to_csv('/drive/My Drive/test_dataset.csv')"
      ],
      "metadata": {
        "id": "CicesSSWoFww"
      },
      "execution_count": null,
      "outputs": []
    },
    {
      "cell_type": "code",
      "metadata": {
        "id": "wUVq7EAdjXnF",
        "colab": {
          "base_uri": "https://localhost:8080/",
          "height": 113,
          "referenced_widgets": [
            "bb655d7f215b463ba24175428e40fb0b",
            "d7db6dd9743d4fb792abdb6b052d0511",
            "f56d81a342604b3cad18fab018bd0884",
            "b6329526120a49c79d7dc2050cca4234",
            "09bb066b38bd42e7931ab1c5aa2fa56b",
            "ad7cdc52ef6a4564a02b100e1a79f0cc",
            "4873f2bef638484cb6fb10256980033a",
            "ab1e2866b3d24cf9815cf272e8b2f7f5",
            "c66c1a4053e0478a8bb424637f26991b",
            "b38b2f27dad84c6399a7bf5c4300089d",
            "992acec76be44eb6ba39b92026215c93",
            "2219d3d2156f466fa0f0302429c1daa0",
            "4aa5957071434a1c97a0e68fec2e6586",
            "8c1e0de93a9f4ceba13f98c5d186c3d5",
            "d08d6af8861c4abd81fbda987411c68d",
            "a88d1b3c02ad40059a9367ff7e488ceb",
            "7e64b71959f74dc8a8c7a9de49f0c379",
            "c56350c3663f462c8964c5c43f07fd26",
            "b66fce2732564691a2ee0a1fd202ae98",
            "c4d6467280b8425990ee8a9138940ede",
            "dc25562c62844a95a2203aceca6cc6aa",
            "05fd7dc69ce24fb78a5f4c70c9fe04f1",
            "82909fd4503a4e53a02d7187fadecc25",
            "1e242747729f43048c56eb7dad368295",
            "906daa23acaa4d45aed7893019973ce8",
            "4d2b9ec161cc40ae93e3e12a0a4b5553",
            "8ea5135a18cd43608b33694a2ce1ea08",
            "67cea55f6fb4414ab96e46333d71dff4",
            "bed71221c3384e5da27edafc3b0059d7",
            "12e92ffc0745420f9da0731bd500993d",
            "bdb441e537684fedba9be98d140ca5ba",
            "c82f4b34cba642cab9a22a2c347ea659",
            "0b582b7203bb4abe8eeeecab72405812"
          ]
        },
        "outputId": "a86e51a9-75e9-4156-8358-6965aa4c8490"
      },
      "source": [
        "max_len = 75\n",
        "from tokenizers import BertWordPieceTokenizer\n",
        "from transformers import BertTokenizer, TFBertModel, BertConfig\n",
        "configuration = BertConfig()\n",
        "\n",
        "\n",
        "slow_tokenizer = BertTokenizer.from_pretrained(\"bert-base-uncased\")\n",
        "\n",
        "save_path = \"bert_base_uncased/\"\n",
        "if not os.path.exists(save_path):\n",
        "    os.makedirs(save_path)\n",
        "\n",
        "slow_tokenizer.save_pretrained(save_path)\n",
        "\n",
        "tokenizer = BertWordPieceTokenizer(\"bert_base_uncased/vocab.txt\", lowercase=True)\n",
        "\n",
        "loss_object = tf.keras.losses.SparseCategoricalCrossentropy(from_logits=False,\n",
        "                                                            reduction=tf.keras.losses.Reduction.NONE)"
      ],
      "execution_count": null,
      "outputs": [
        {
          "output_type": "display_data",
          "data": {
            "text/plain": [
              "Downloading:   0%|          | 0.00/226k [00:00<?, ?B/s]"
            ],
            "application/vnd.jupyter.widget-view+json": {
              "version_major": 2,
              "version_minor": 0,
              "model_id": "bb655d7f215b463ba24175428e40fb0b"
            }
          },
          "metadata": {}
        },
        {
          "output_type": "display_data",
          "data": {
            "text/plain": [
              "Downloading:   0%|          | 0.00/28.0 [00:00<?, ?B/s]"
            ],
            "application/vnd.jupyter.widget-view+json": {
              "version_major": 2,
              "version_minor": 0,
              "model_id": "2219d3d2156f466fa0f0302429c1daa0"
            }
          },
          "metadata": {}
        },
        {
          "output_type": "display_data",
          "data": {
            "text/plain": [
              "Downloading:   0%|          | 0.00/570 [00:00<?, ?B/s]"
            ],
            "application/vnd.jupyter.widget-view+json": {
              "version_major": 2,
              "version_minor": 0,
              "model_id": "82909fd4503a4e53a02d7187fadecc25"
            }
          },
          "metadata": {}
        }
      ]
    },
    {
      "cell_type": "markdown",
      "source": [
        "### **Needed functions for model implementation**\n",
        "\n",
        "This section contains the following functions: \n",
        "\n",
        "- masked_ce_loss()\n",
        "- create_model()\n",
        "- process_csv()\n",
        "- create_inputs_targets()"
      ],
      "metadata": {
        "id": "to2uWT7ggA8e"
      }
    },
    {
      "cell_type": "code",
      "source": [
        "def masked_ce_loss(real, pred):\n",
        "    \n",
        "    mask = tf.math.logical_not(tf.math.equal(real, 18))\n",
        "    loss_ = loss_object(real, pred)\n",
        "\n",
        "    mask = tf.cast(mask, dtype=loss_.dtype)\n",
        "    loss_ *= mask\n",
        "\n",
        "    return tf.reduce_mean(loss_)"
      ],
      "metadata": {
        "id": "D2elXWs6g_ah"
      },
      "execution_count": null,
      "outputs": []
    },
    {
      "cell_type": "code",
      "source": [
        "def create_model(num_tags):\n",
        "    \n",
        "    encoder = TFBertModel.from_pretrained(\"bert-base-uncased\")\n",
        "    \n",
        "    encoder.trainable = False\n",
        " \n",
        "    input_ids = layers.Input(shape=(max_len,), dtype=tf.int32)\n",
        "    token_type_ids = layers.Input(shape=(max_len,), dtype=tf.int32)\n",
        "    attention_mask = layers.Input(shape=(max_len,), dtype=tf.int32)\n",
        "    \n",
        "    inputs_berts = [input_ids, token_type_ids, attention_mask]\n",
        "    \n",
        "    embedding = encoder(inputs_berts)[0]\n",
        "    \n",
        "    bi_lstm = layers.Bidirectional(tf.compat.v1.keras.layers.CuDNNLSTM(max_len // 2, \n",
        "                                                             return_sequences=True),\n",
        "                                                             name='bilstm')(embedding)\n",
        "\n",
        "    dropout = layers.TimeDistributed(layers.Dropout(0.3))(bi_lstm)\n",
        "\n",
        "    dense_layer = layers.TimeDistributed(layers.Dense(max_len,\n",
        "                                                      activation='relu',\n",
        "                                                      name='last_dense'))(dropout)\n",
        "\n",
        "    output = layers.Dense(num_tags + 1,\n",
        "                          activation=\"softmax\",\n",
        "                          name='predictions')(dense_layer)\n",
        "\n",
        "    model = models.Model(inputs=inputs_berts, outputs=output)\n",
        "\n",
        "    model.compile(optimizer=optimizers.Adam(lr=0.001),\n",
        "                  loss=[masked_ce_loss],\n",
        "                  metrics=[metrics.SparseCategoricalAccuracy('accuracy')])\n",
        "    \n",
        "    return model\n"
      ],
      "metadata": {
        "id": "YqBsO236hFTR"
      },
      "execution_count": null,
      "outputs": []
    },
    {
      "cell_type": "code",
      "source": [
        "def process_csv(data_path):\n",
        "\n",
        "    df = pd.read_csv(data_path, encoding=\"latin-1\")\n",
        "    df.loc[:, \"Sentence #\"] = df[\"Sentence #\"].fillna(method=\"ffill\")\n",
        "\n",
        "    enc_tag = preprocessing.LabelEncoder()\n",
        "\n",
        "    df.loc[:, \"Tag\"] = enc_tag.fit_transform(df[\"Tag\"])\n",
        "\n",
        "    sentences = df.groupby(\"Sentence #\")[\"Word\"].apply(list).values\n",
        "    tag = df.groupby(\"Sentence #\")[\"Tag\"].apply(list).values\n",
        "\n",
        "    return sentences, tag, enc_tag\n"
      ],
      "metadata": {
        "id": "1i78QS7IhaZA"
      },
      "execution_count": null,
      "outputs": []
    },
    {
      "cell_type": "code",
      "metadata": {
        "_uuid": "8f2839f25d086af736a60e9eeb907d3b93b6e0e5",
        "_cell_guid": "b1076dfc-b9ad-4769-8c92-a6c4dae69d19",
        "trusted": true,
        "id": "aGX1pCDnihBJ"
      },
      "source": [
        "def create_inputs_targets(data_csv):\n",
        "\n",
        "    dataset_dict = {\n",
        "        \"input_ids\": [],\n",
        "        \"token_type_ids\": [],\n",
        "        \"attention_mask\": [],\n",
        "        \"tags\": []\n",
        "    }\n",
        "\n",
        "    sentences, tags, tag_encoder = process_csv(data_csv)\n",
        "    \n",
        "    for sentence, tag in zip(sentences, tags):\n",
        "\n",
        "        input_ids = []\n",
        "        target_tags = []\n",
        "\n",
        "        for idx, word in enumerate(sentence):\n",
        "\n",
        "            ids = tokenizer.encode(word, add_special_tokens=False)\n",
        "            input_ids.extend(ids.ids)\n",
        "            num_tokens = len(ids)\n",
        "            target_tags.extend([tag[idx]] * num_tokens)\n",
        "        \n",
        "        \n",
        "        # Pad truncate\n",
        "        input_ids = input_ids[:max_len - 2]\n",
        "        target_tags = target_tags[:max_len - 2]\n",
        "\n",
        "        input_ids = [101] + input_ids + [102]\n",
        "        target_tags = [16] + target_tags + [16]\n",
        "        token_type_ids = [0] * len(input_ids)\n",
        "        attention_mask = [1] * len(input_ids)\n",
        "        padding_len = max_len - len(input_ids)\n",
        "\n",
        "        input_ids = input_ids + ([0] * padding_len)\n",
        "        attention_mask = attention_mask + ([0] * padding_len)\n",
        "        token_type_ids = token_type_ids + ([0] * padding_len)\n",
        "        target_tags = target_tags + ([17] * padding_len)\n",
        "        \n",
        "        dataset_dict[\"input_ids\"].append(input_ids)\n",
        "        dataset_dict[\"token_type_ids\"].append(token_type_ids)\n",
        "        dataset_dict[\"attention_mask\"].append(attention_mask)\n",
        "        dataset_dict[\"tags\"].append(target_tags)\n",
        "        \n",
        "    for key in dataset_dict:\n",
        "        dataset_dict[key] = np.array(dataset_dict[key])\n",
        "\n",
        "    x = [\n",
        "        dataset_dict[\"input_ids\"],\n",
        "        dataset_dict[\"token_type_ids\"],\n",
        "        dataset_dict[\"attention_mask\"],\n",
        "    ]\n",
        "\n",
        "    y = dataset_dict[\"tags\"]\n",
        "\n",
        "    return x, y, tag_encoder"
      ],
      "execution_count": null,
      "outputs": []
    },
    {
      "cell_type": "markdown",
      "source": [
        "### **Splitting data to train/test**"
      ],
      "metadata": {
        "id": "QjcOWfxPhoeh"
      }
    },
    {
      "cell_type": "code",
      "metadata": {
        "id": "4EmdKCK55dxb"
      },
      "source": [
        "num_tags = train_dataset[\"Tag\"].nunique()\n",
        "\n",
        "x_train, y_train, tag_encoder = create_inputs_targets('/drive/My Drive/train_dataset.csv')"
      ],
      "execution_count": null,
      "outputs": []
    },
    {
      "cell_type": "code",
      "source": [
        "x_test, y_test, tag_encoder = create_inputs_targets('/drive/My Drive/test_dataset.csv')"
      ],
      "metadata": {
        "id": "6BCpPJhAok63"
      },
      "execution_count": null,
      "outputs": []
    },
    {
      "cell_type": "markdown",
      "source": [
        "###***Create Model***"
      ],
      "metadata": {
        "id": "gMXcsZSXh7q6"
      }
    },
    {
      "cell_type": "code",
      "metadata": {
        "colab": {
          "base_uri": "https://localhost:8080/",
          "height": 850,
          "referenced_widgets": [
            "cc6611f34fd74e2d8b48d28451d46fad",
            "714aa38824bc41bf817b592ccc40d779",
            "740a28514d84422d88e247928a131a24",
            "f93eb166133f4b4693e7974ade746fb3",
            "569718950e9948119a25ce72a8098735",
            "b73e4d23906f4746ba2433f3e0424667",
            "1473534cea1e4bfe827ef910ffe4c1c6",
            "c11941d515dc4c079976d7d76930c715",
            "17d29eabbf404ccbb7325cdf4ef29a44",
            "d4ae35ef1b9a4ab1999cc370f7fdef71",
            "ff59759fb4fb43a988e63fc625eb372c"
          ]
        },
        "id": "dYtp36LtjFoA",
        "outputId": "e98cb8f8-87f6-46ee-daef-1022b41339ba"
      },
      "source": [
        "model = create_model(num_tags)\n",
        "    \n",
        "model.summary()\n"
      ],
      "execution_count": null,
      "outputs": [
        {
          "output_type": "display_data",
          "data": {
            "text/plain": [
              "Downloading:   0%|          | 0.00/511M [00:00<?, ?B/s]"
            ],
            "application/vnd.jupyter.widget-view+json": {
              "version_major": 2,
              "version_minor": 0,
              "model_id": "cc6611f34fd74e2d8b48d28451d46fad"
            }
          },
          "metadata": {}
        },
        {
          "output_type": "stream",
          "name": "stderr",
          "text": [
            "Some layers from the model checkpoint at bert-base-uncased were not used when initializing TFBertModel: ['nsp___cls', 'mlm___cls']\n",
            "- This IS expected if you are initializing TFBertModel from the checkpoint of a model trained on another task or with another architecture (e.g. initializing a BertForSequenceClassification model from a BertForPreTraining model).\n",
            "- This IS NOT expected if you are initializing TFBertModel from the checkpoint of a model that you expect to be exactly identical (initializing a BertForSequenceClassification model from a BertForSequenceClassification model).\n",
            "All the layers of TFBertModel were initialized from the model checkpoint at bert-base-uncased.\n",
            "If your task is similar to the task the model of the checkpoint was trained on, you can already use TFBertModel for predictions without further training.\n"
          ]
        },
        {
          "output_type": "stream",
          "name": "stdout",
          "text": [
            "Model: \"model\"\n",
            "__________________________________________________________________________________________________\n",
            " Layer (type)                   Output Shape         Param #     Connected to                     \n",
            "==================================================================================================\n",
            " input_1 (InputLayer)           [(None, 75)]         0           []                               \n",
            "                                                                                                  \n",
            " input_2 (InputLayer)           [(None, 75)]         0           []                               \n",
            "                                                                                                  \n",
            " input_3 (InputLayer)           [(None, 75)]         0           []                               \n",
            "                                                                                                  \n",
            " tf_bert_model (TFBertModel)    TFBaseModelOutputWi  109482240   ['input_1[0][0]',                \n",
            "                                thPoolingAndCrossAt               'input_2[0][0]',                \n",
            "                                tentions(last_hidde               'input_3[0][0]']                \n",
            "                                n_state=(None, 75,                                                \n",
            "                                768),                                                             \n",
            "                                 pooler_output=(Non                                               \n",
            "                                e, 768),                                                          \n",
            "                                 past_key_values=No                                               \n",
            "                                ne, hidden_states=N                                               \n",
            "                                one, attentions=Non                                               \n",
            "                                e, cross_attentions                                               \n",
            "                                =None)                                                            \n",
            "                                                                                                  \n",
            " bilstm (Bidirectional)         (None, 75, 74)       238872      ['tf_bert_model[0][0]']          \n",
            "                                                                                                  \n",
            " time_distributed (TimeDistribu  (None, 75, 74)      0           ['bilstm[0][0]']                 \n",
            " ted)                                                                                             \n",
            "                                                                                                  \n",
            " time_distributed_1 (TimeDistri  (None, 75, 75)      5625        ['time_distributed[0][0]']       \n",
            " buted)                                                                                           \n",
            "                                                                                                  \n",
            " predictions (Dense)            (None, 75, 24)       1824        ['time_distributed_1[0][0]']     \n",
            "                                                                                                  \n",
            "==================================================================================================\n",
            "Total params: 109,728,561\n",
            "Trainable params: 246,321\n",
            "Non-trainable params: 109,482,240\n",
            "__________________________________________________________________________________________________\n"
          ]
        },
        {
          "output_type": "stream",
          "name": "stderr",
          "text": [
            "/usr/local/lib/python3.7/dist-packages/keras/optimizer_v2/adam.py:105: UserWarning: The `lr` argument is deprecated, use `learning_rate` instead.\n",
            "  super(Adam, self).__init__(name, **kwargs)\n"
          ]
        }
      ]
    },
    {
      "cell_type": "code",
      "source": [
        "model.fit(\n",
        "    x_train,\n",
        "    y_train,\n",
        "    epochs=20,\n",
        "    verbose=1,\n",
        "    batch_size=32,\n",
        "    validation_split=0.2\n",
        ")"
      ],
      "metadata": {
        "colab": {
          "base_uri": "https://localhost:8080/"
        },
        "id": "usbbz0mffbBU",
        "outputId": "ef5aa408-a153-4c96-af75-83d8014e9ac4"
      },
      "execution_count": null,
      "outputs": [
        {
          "output_type": "stream",
          "name": "stdout",
          "text": [
            "Epoch 1/20\n",
            "1363/1363 [==============================] - 239s 166ms/step - loss: 0.2179 - accuracy: 0.9392 - val_loss: 0.9927 - val_accuracy: 0.7704\n",
            "Epoch 2/20\n",
            "1363/1363 [==============================] - 224s 164ms/step - loss: 0.1549 - accuracy: 0.9481 - val_loss: 1.0135 - val_accuracy: 0.7698\n",
            "Epoch 3/20\n",
            "1363/1363 [==============================] - 224s 164ms/step - loss: 0.1422 - accuracy: 0.9501 - val_loss: 1.0153 - val_accuracy: 0.7722\n",
            "Epoch 4/20\n",
            "1363/1363 [==============================] - 224s 164ms/step - loss: 0.1354 - accuracy: 0.9512 - val_loss: 1.0334 - val_accuracy: 0.7729\n",
            "Epoch 5/20\n",
            "1363/1363 [==============================] - 224s 164ms/step - loss: 0.1297 - accuracy: 0.9524 - val_loss: 1.0627 - val_accuracy: 0.7662\n",
            "Epoch 6/20\n",
            "1363/1363 [==============================] - 224s 164ms/step - loss: 0.1258 - accuracy: 0.9533 - val_loss: 1.1637 - val_accuracy: 0.7717\n",
            "Epoch 7/20\n",
            "1363/1363 [==============================] - 224s 164ms/step - loss: 0.1231 - accuracy: 0.9538 - val_loss: 1.1063 - val_accuracy: 0.7730\n",
            "Epoch 8/20\n",
            "1363/1363 [==============================] - 224s 164ms/step - loss: 0.1197 - accuracy: 0.9545 - val_loss: 1.1728 - val_accuracy: 0.7739\n",
            "Epoch 9/20\n",
            "1363/1363 [==============================] - 223s 164ms/step - loss: 0.1174 - accuracy: 0.9551 - val_loss: 1.1615 - val_accuracy: 0.7739\n",
            "Epoch 10/20\n",
            "1363/1363 [==============================] - 223s 164ms/step - loss: 0.1156 - accuracy: 0.9555 - val_loss: 1.2403 - val_accuracy: 0.7726\n",
            "Epoch 11/20\n",
            "1363/1363 [==============================] - 223s 164ms/step - loss: 0.1138 - accuracy: 0.9560 - val_loss: 1.2008 - val_accuracy: 0.7706\n",
            "Epoch 12/20\n",
            "1363/1363 [==============================] - 223s 164ms/step - loss: 0.1120 - accuracy: 0.9565 - val_loss: 1.2446 - val_accuracy: 0.7665\n",
            "Epoch 13/20\n",
            "1363/1363 [==============================] - 224s 165ms/step - loss: 0.1107 - accuracy: 0.9567 - val_loss: 1.2637 - val_accuracy: 0.7733\n",
            "Epoch 14/20\n",
            "1363/1363 [==============================] - 224s 165ms/step - loss: 0.1096 - accuracy: 0.9571 - val_loss: 1.2440 - val_accuracy: 0.7726\n",
            "Epoch 15/20\n",
            "1363/1363 [==============================] - 223s 164ms/step - loss: 0.1084 - accuracy: 0.9574 - val_loss: 1.3410 - val_accuracy: 0.7689\n",
            "Epoch 16/20\n",
            "1363/1363 [==============================] - 223s 164ms/step - loss: 0.1075 - accuracy: 0.9576 - val_loss: 1.2944 - val_accuracy: 0.7669\n",
            "Epoch 17/20\n",
            "1363/1363 [==============================] - 222s 163ms/step - loss: 0.1066 - accuracy: 0.9579 - val_loss: 1.2989 - val_accuracy: 0.7672\n",
            "Epoch 18/20\n",
            "1363/1363 [==============================] - 222s 163ms/step - loss: 0.1050 - accuracy: 0.9583 - val_loss: 1.3035 - val_accuracy: 0.7706\n",
            "Epoch 19/20\n",
            "1363/1363 [==============================] - 222s 163ms/step - loss: 0.1040 - accuracy: 0.9586 - val_loss: 1.3492 - val_accuracy: 0.7718\n",
            "Epoch 20/20\n",
            "1363/1363 [==============================] - 222s 163ms/step - loss: 0.1040 - accuracy: 0.9585 - val_loss: 1.3236 - val_accuracy: 0.7736\n"
          ]
        },
        {
          "output_type": "execute_result",
          "data": {
            "text/plain": [
              "<keras.callbacks.History at 0x7fc89f1ba8d0>"
            ]
          },
          "metadata": {},
          "execution_count": 18
        }
      ]
    },
    {
      "cell_type": "code",
      "source": [
        "from future.utils import iteritems\n",
        "\n",
        "tags = list(set(data_csv[\"Tag\"].values))\n",
        "number_tags = len(tags)\n",
        "\n",
        "tag2idx = {t: i for i, t in enumerate(tags)}\n",
        "idx2tag = {i: w for w, i in iteritems(tag2idx)}"
      ],
      "metadata": {
        "id": "go8N-EpcpCvH"
      },
      "execution_count": null,
      "outputs": []
    },
    {
      "cell_type": "code",
      "source": [
        "y_pred = model.predict(x_test)\n",
        "pred_tags = np.argmax(y_pred,2)"
      ],
      "metadata": {
        "id": "dBQZw39pvKVi"
      },
      "execution_count": null,
      "outputs": []
    },
    {
      "cell_type": "code",
      "source": [
        "from sklearn.preprocessing import MultiLabelBinarizer\n",
        "from sklearn.metrics import f1_score\n",
        "from sklearn.metrics import classification_report\n",
        "\n",
        "m = MultiLabelBinarizer().fit(y_test)"
      ],
      "metadata": {
        "id": "nkK9-BGJxywv"
      },
      "execution_count": null,
      "outputs": []
    },
    {
      "cell_type": "code",
      "source": [
        "f1_score(m.transform(y_test),\n",
        "         m.transform(np.argmax(y_pred,axis=2)), average='samples')"
      ],
      "metadata": {
        "id": "Ls5aH5S-yxhV"
      },
      "execution_count": null,
      "outputs": []
    },
    {
      "cell_type": "code",
      "source": [
        "print(classification_report(m.transform(y_test), \n",
        "                            m.transform(np.argmax(y_pred,axis=2)),\n",
        "                            labels=list(idx2tag.keys()), \n",
        "                            target_names=list(idx2tag.values())))"
      ],
      "metadata": {
        "id": "jyB_uY3Rxpko",
        "colab": {
          "base_uri": "https://localhost:8080/"
        },
        "outputId": "2684e5ce-a679-49ba-eadd-9eec1d709e46"
      },
      "execution_count": null,
      "outputs": [
        {
          "output_type": "stream",
          "name": "stdout",
          "text": [
            "                          precision    recall  f1-score   support\n",
            "\n",
            "              B-COMPAIGN       0.22      0.21      0.22      2528\n",
            "I-MALWARECHARACTERISTICS       0.17      0.50      0.25       596\n",
            "             B-INDICATOR       0.48      0.60      0.54      1854\n",
            "               I-PRODUCT       0.15      0.18      0.16       616\n",
            "                  B-DATE       0.13      0.34      0.19       966\n",
            "B-MALWARECHARACTERISTICS       0.14      0.20      0.17       255\n",
            "                   I-LOC       0.44      0.73      0.55      1658\n",
            "               B-PRODUCT       0.38      0.41      0.39      5589\n",
            "               I-MALWARE       0.58      0.24      0.34      2435\n",
            "                  I-DATE       0.41      0.33      0.36      1685\n",
            "                   B-LOC       0.35      0.14      0.20       385\n",
            "           I-INFORMATION       0.19      0.06      0.09      1601\n",
            "         B-VULNERABILITY       0.05      0.08      0.06       132\n",
            "             I-INDICATOR       0.49      0.35      0.41      1410\n",
            "         I-VULNERABILITY       0.09      0.12      0.10       233\n",
            "              B-ATTACKER       0.19      0.21      0.20       523\n",
            "   I-ExploitTargetObject       1.00      1.00      1.00     45791\n",
            "              I-COMPAIGN       1.00      1.00      1.00     42984\n",
            "               B-MALWARE       0.00      0.00      0.00      5342\n",
            "              I-ATTACKER       0.72      0.14      0.23      5066\n",
            "   B-ExploitTargetObject       0.57      0.22      0.32       932\n",
            "           B-INFORMATION       0.00      0.00      0.00       635\n",
            "                       O       0.98      0.98      0.98     39659\n",
            "\n",
            "               micro avg       0.89      0.84      0.86    162875\n",
            "               macro avg       0.38      0.35      0.34    162875\n",
            "            weighted avg       0.86      0.84      0.84    162875\n",
            "             samples avg       0.91      0.86      0.87    162875\n",
            "\n"
          ]
        },
        {
          "output_type": "stream",
          "name": "stderr",
          "text": [
            "/usr/local/lib/python3.7/dist-packages/sklearn/metrics/_classification.py:1318: UndefinedMetricWarning: Precision and F-score are ill-defined and being set to 0.0 in labels with no predicted samples. Use `zero_division` parameter to control this behavior.\n",
            "  _warn_prf(average, modifier, msg_start, len(result))\n"
          ]
        }
      ]
    },
    {
      "cell_type": "markdown",
      "source": [
        "# Metric seqeval : Evaluation\n",
        "\n",
        "seqeval is a Python framework for sequence labeling evaluation. seqeval can evaluate the performance of chunking tasks such as named-entity recognition, part-of-speech tagging, semantic role labeling and so on.\n",
        "\n",
        "This is well-tested by using the Perl script conlleval, which can be used for measuring the performance of a system that has processed the CoNLL-2000 shared task data.\n",
        "\n",
        "seqeval supports following formats: IOB1 IOB2 IOE1 IOE2 IOBES"
      ],
      "metadata": {
        "id": "gyJAa4PiHcv0"
      }
    },
    {
      "cell_type": "code",
      "source": [
        "from seqeval.metrics import classification_report, f1_score"
      ],
      "metadata": {
        "id": "XvIe0udeHk7b"
      },
      "execution_count": null,
      "outputs": []
    },
    {
      "cell_type": "code",
      "source": [
        "np.argmax(y_pred,axis=2)"
      ],
      "metadata": {
        "colab": {
          "base_uri": "https://localhost:8080/"
        },
        "id": "b0oK_oqZ0VF8",
        "outputId": "426f8042-d58f-478a-d80f-f2a9851bade6"
      },
      "execution_count": null,
      "outputs": [
        {
          "output_type": "execute_result",
          "data": {
            "text/plain": [
              "array([[16, 22, 22, ..., 17, 17, 17],\n",
              "       [16, 22, 22, ..., 17, 17, 17],\n",
              "       [16, 22, 22, ..., 17, 17, 17],\n",
              "       ...,\n",
              "       [16, 22, 22, ..., 22, 22, 16],\n",
              "       [16, 22, 22, ..., 22, 22, 16],\n",
              "       [16, 22, 22, ..., 22, 22, 16]])"
            ]
          },
          "metadata": {},
          "execution_count": 63
        }
      ]
    },
    {
      "cell_type": "code",
      "source": [
        "len(y_test[0])"
      ],
      "metadata": {
        "colab": {
          "base_uri": "https://localhost:8080/"
        },
        "id": "JWPEvZwkx_RP",
        "outputId": "aba158be-d64f-4807-a411-d5aea3c0da8d"
      },
      "execution_count": null,
      "outputs": [
        {
          "output_type": "execute_result",
          "data": {
            "text/plain": [
              "75"
            ]
          },
          "metadata": {},
          "execution_count": 67
        }
      ]
    },
    {
      "cell_type": "code",
      "source": [
        "T=[idx2tag[j] for i in y_test for j in i ]\n",
        "P=[idx2tag[j] for i in np.argmax(y_pred,axis=2) for j in i ]"
      ],
      "metadata": {
        "id": "CyTBmQSI0nJv"
      },
      "execution_count": null,
      "outputs": []
    },
    {
      "cell_type": "code",
      "source": [
        "idx2tag"
      ],
      "metadata": {
        "colab": {
          "base_uri": "https://localhost:8080/"
        },
        "id": "jJmCtmmIzatM",
        "outputId": "657d74fb-66ff-490d-ae0f-10c5c3ee4dc4"
      },
      "execution_count": null,
      "outputs": [
        {
          "output_type": "execute_result",
          "data": {
            "text/plain": [
              "{0: 'B-COMPAIGN',\n",
              " 1: 'I-MALWARECHARACTERISTICS',\n",
              " 2: 'B-INDICATOR',\n",
              " 3: 'I-PRODUCT',\n",
              " 4: 'B-DATE',\n",
              " 5: 'B-MALWARECHARACTERISTICS',\n",
              " 6: 'I-LOC',\n",
              " 7: 'B-PRODUCT',\n",
              " 8: 'I-MALWARE',\n",
              " 9: 'I-DATE',\n",
              " 10: 'B-LOC',\n",
              " 11: 'I-INFORMATION',\n",
              " 12: 'B-VULNERABILITY',\n",
              " 13: 'I-INDICATOR',\n",
              " 14: 'I-VULNERABILITY',\n",
              " 15: 'B-ATTACKER',\n",
              " 16: 'I-ExploitTargetObject',\n",
              " 17: 'I-COMPAIGN',\n",
              " 18: 'B-MALWARE',\n",
              " 19: 'I-ATTACKER',\n",
              " 20: 'B-ExploitTargetObject',\n",
              " 21: 'B-INFORMATION',\n",
              " 22: 'O'}"
            ]
          },
          "metadata": {},
          "execution_count": 59
        }
      ]
    },
    {
      "cell_type": "code",
      "source": [
        "print(f1_score([T], [P]))"
      ],
      "metadata": {
        "id": "415PsWj0cyxa",
        "colab": {
          "base_uri": "https://localhost:8080/"
        },
        "outputId": "c91a1974-d2e8-4ae5-d426-1f080993a1d0"
      },
      "execution_count": null,
      "outputs": [
        {
          "output_type": "stream",
          "name": "stdout",
          "text": [
            "0.6079920491825744\n"
          ]
        }
      ]
    },
    {
      "cell_type": "code",
      "source": [
        "print(classification_report([T], [P]))"
      ],
      "metadata": {
        "colab": {
          "base_uri": "https://localhost:8080/"
        },
        "id": "wKpXVmxz1x-1",
        "outputId": "7d81489c-9211-4a17-eec4-aa6ed3e95902"
      },
      "execution_count": null,
      "outputs": [
        {
          "output_type": "stream",
          "name": "stdout",
          "text": [
            "                        precision    recall  f1-score   support\n",
            "\n",
            "              ATTACKER       0.15      0.03      0.05     13913\n",
            "              COMPAIGN       0.91      0.90      0.91     49117\n",
            "                  DATE       0.21      0.34      0.26      6893\n",
            "   ExploitTargetObject       0.99      0.98      0.99     90456\n",
            "             INDICATOR       0.58      0.67      0.62      4797\n",
            "           INFORMATION       0.04      0.00      0.01      8471\n",
            "                   LOC       0.38      0.45      0.42      3353\n",
            "               MALWARE       0.23      0.01      0.01     44897\n",
            "MALWARECHARACTERISTICS       0.11      0.21      0.15      1469\n",
            "                 Other       0.53      0.64      0.58    569951\n",
            "               PRODUCT       0.29      0.31      0.30     13855\n",
            "         VULNERABILITY       0.09      0.11      0.10       687\n",
            "\n",
            "             micro avg       0.59      0.63      0.61    807859\n",
            "             macro avg       0.38      0.39      0.37    807859\n",
            "          weighted avg       0.57      0.63      0.59    807859\n",
            "\n"
          ]
        }
      ]
    }
  ]
}